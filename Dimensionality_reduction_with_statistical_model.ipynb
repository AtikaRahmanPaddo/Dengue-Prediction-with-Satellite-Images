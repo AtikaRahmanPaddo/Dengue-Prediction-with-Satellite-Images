{
  "nbformat": 4,
  "nbformat_minor": 0,
  "metadata": {
    "colab": {
      "name": "Dimensionality reduction with statistical model.ipynb",
      "provenance": [],
      "collapsed_sections": [
        "rK9kW_7xHORf",
        "kpVHuEf5hUTU",
        "4Km6do3bvRKw",
        "cWEMb1ZjvUTq",
        "Pph6i9sHvurx",
        "x_5iiCDpvBag",
        "yQTM0ZTP-fNQ",
        "G9wEr6hlxUC8",
        "P_QU-17t4Opz",
        "r3H2ftvS3m1e",
        "DPeC32Ai38Ck"
      ]
    },
    "kernelspec": {
      "display_name": "Python 3",
      "name": "python3"
    },
    "language_info": {
      "name": "python"
    }
  },
  "cells": [
    {
      "cell_type": "markdown",
      "metadata": {
        "id": "verBJk4CIwf6"
      },
      "source": [
        "\n",
        "\n",
        "*   Data: Resized 12-band or RGB images (resized ratio: 0.5, 0.5, 1)\n",
        "*   Dimensionality reduction: PCA and LLE\n",
        "*   Statistical models: Linear Regression and SVR\n",
        "*   Methods:\n",
        "      * Resized images are used to predict cases directly\n",
        "      * Resized images first do PCA then use statistical models to predict cases\n",
        "      * Resized images first do LLE then use statistical models to predict cases\n"
      ]
    },
    {
      "cell_type": "markdown",
      "metadata": {
        "id": "rK9kW_7xHORf"
      },
      "source": [
        "# Mount Drive"
      ]
    },
    {
      "cell_type": "code",
      "metadata": {
        "colab": {
          "base_uri": "https://localhost:8080/"
        },
        "id": "7i7zUCFHbp80",
        "outputId": "eb50adcb-4e40-4145-9f5a-9dac41e79748"
      },
      "source": [
        "from google.colab import drive\n",
        "drive.mount('/content/drive')"
      ],
      "execution_count": null,
      "outputs": [
        {
          "output_type": "stream",
          "name": "stdout",
          "text": [
            "Mounted at /content/drive\n"
          ]
        }
      ]
    },
    {
      "cell_type": "markdown",
      "metadata": {
        "id": "kpVHuEf5hUTU"
      },
      "source": [
        "# Setup Environment and Load Functions"
      ]
    },
    {
      "cell_type": "markdown",
      "metadata": {
        "id": "gTCYitoTuicA"
      },
      "source": [
        "### Install library"
      ]
    },
    {
      "cell_type": "code",
      "metadata": {
        "colab": {
          "base_uri": "https://localhost:8080/"
        },
        "id": "FPSXSZi1E0Lm",
        "outputId": "bea7cdb3-bf54-4a2c-dbfd-5063fb42d90a"
      },
      "source": [
        "!pip install scikit-learn==0.24"
      ],
      "execution_count": null,
      "outputs": [
        {
          "output_type": "stream",
          "name": "stdout",
          "text": [
            "Collecting scikit-learn==0.24\n",
            "  Downloading scikit_learn-0.24.0-cp37-cp37m-manylinux2010_x86_64.whl (22.3 MB)\n",
            "\u001b[K     |████████████████████████████████| 22.3 MB 1.3 MB/s \n",
            "\u001b[?25hRequirement already satisfied: joblib>=0.11 in /usr/local/lib/python3.7/dist-packages (from scikit-learn==0.24) (1.1.0)\n",
            "Requirement already satisfied: scipy>=0.19.1 in /usr/local/lib/python3.7/dist-packages (from scikit-learn==0.24) (1.4.1)\n",
            "Requirement already satisfied: threadpoolctl>=2.0.0 in /usr/local/lib/python3.7/dist-packages (from scikit-learn==0.24) (3.0.0)\n",
            "Requirement already satisfied: numpy>=1.13.3 in /usr/local/lib/python3.7/dist-packages (from scikit-learn==0.24) (1.19.5)\n",
            "Installing collected packages: scikit-learn\n",
            "  Attempting uninstall: scikit-learn\n",
            "    Found existing installation: scikit-learn 1.0.1\n",
            "    Uninstalling scikit-learn-1.0.1:\n",
            "      Successfully uninstalled scikit-learn-1.0.1\n",
            "Successfully installed scikit-learn-0.24.0\n"
          ]
        }
      ]
    },
    {
      "cell_type": "code",
      "metadata": {
        "id": "Nf6xQA_1nLAv"
      },
      "source": [
        "# sklearn library\n",
        "from sklearn.preprocessing import MinMaxScaler\n",
        "from sklearn.metrics import mean_absolute_error\n",
        "from sklearn.decomposition import PCA\n",
        "from sklearn.manifold import LocallyLinearEmbedding\n",
        "from sklearn.metrics import mean_absolute_percentage_error\n",
        "from sklearn import linear_model  \n",
        "from sklearn.svm import SVR"
      ],
      "execution_count": null,
      "outputs": []
    },
    {
      "cell_type": "code",
      "metadata": {
        "id": "cTsy3_Iq21K-"
      },
      "source": [
        "from random import randint, randrange\n",
        "from skimage import io\n",
        "from skimage.transform import rescale, resize, downscale_local_mean\n",
        "\n",
        "import skimage\n",
        "import cv2\n",
        "import os\n",
        "import pandas as pd\n",
        "import numpy as np\n",
        "import pickle\n",
        "import plotly.express as px\n",
        "import matplotlib.pyplot as plt"
      ],
      "execution_count": null,
      "outputs": []
    },
    {
      "cell_type": "code",
      "metadata": {
        "colab": {
          "base_uri": "https://localhost:8080/",
          "height": 35
        },
        "id": "gyQb5j_zCjoy",
        "outputId": "72962baf-3ebe-4cde-a938-6219c0a40552"
      },
      "source": [
        "skimage.__version__"
      ],
      "execution_count": null,
      "outputs": [
        {
          "output_type": "execute_result",
          "data": {
            "application/vnd.google.colaboratory.intrinsic+json": {
              "type": "string"
            },
            "text/plain": [
              "'0.18.3'"
            ]
          },
          "metadata": {},
          "execution_count": 5
        }
      ]
    },
    {
      "cell_type": "code",
      "metadata": {
        "colab": {
          "base_uri": "https://localhost:8080/"
        },
        "id": "KlpIqYTQDeKu",
        "outputId": "e1a5b951-89d2-46f2-b25b-c8564d423d7f"
      },
      "source": [
        "!pip install epiweeks\n",
        "from epiweeks import Week, Year\n",
        "from datetime import date"
      ],
      "execution_count": null,
      "outputs": [
        {
          "output_type": "stream",
          "name": "stdout",
          "text": [
            "Collecting epiweeks\n",
            "  Downloading epiweeks-2.1.3-py3-none-any.whl (5.9 kB)\n",
            "Installing collected packages: epiweeks\n",
            "Successfully installed epiweeks-2.1.3\n"
          ]
        }
      ]
    },
    {
      "cell_type": "markdown",
      "metadata": {
        "id": "iHu-vQ3Dus7s"
      },
      "source": [
        "### Get epi weeks"
      ]
    },
    {
      "cell_type": "code",
      "metadata": {
        "id": "zn-z5IIbxNFq"
      },
      "source": [
        "def getEpiWeek(origin_str):\n",
        "  \"\"\"Get epi week from string\n",
        "  \"\"\"\n",
        "  date_ls = origin_str.split('-')\n",
        "  return Week.fromdate(date(int(date_ls[0]), int(date_ls[1]), int(date_ls[2])))"
      ],
      "execution_count": null,
      "outputs": []
    },
    {
      "cell_type": "markdown",
      "metadata": {
        "id": "OZv16vrjuwXf"
      },
      "source": [
        "### Load CSV file"
      ]
    },
    {
      "cell_type": "code",
      "metadata": {
        "id": "n1Q7rP1Jdn5S"
      },
      "source": [
        "def loadStructuredData(csv_path):\n",
        "  df = pd.DataFrame()\n",
        "  if os.path.isdir(csv_path):\n",
        "    for filename in os.listdir(csv_path):\n",
        "      file_path = os.path.join(csv_path, filename)\n",
        "      df = df.append(pd.read_csv(file_path))\n",
        "  elif os.path.isfile(csv_path):\n",
        "    df = pd.read_csv(csv_path)\n",
        "  else:\n",
        "    print('Error: Not folder or file')\n",
        "  return df"
      ],
      "execution_count": null,
      "outputs": []
    },
    {
      "cell_type": "markdown",
      "metadata": {
        "id": "ri0pWvK-u0Hw"
      },
      "source": [
        "### Plot graphs "
      ]
    },
    {
      "cell_type": "code",
      "metadata": {
        "id": "jveGkUZr99De"
      },
      "source": [
        "def plotData(x_asix, y_axis, title):\n",
        "  plt.figure(figsize = (12, 8))\n",
        "  plt.plot(x_axis, y_axis, color ='black')\n",
        "  plt.ylabel('Dengue Cases')\n",
        "  plt.title(title)\n",
        "  plt.tick_params(axis='both',labelsize=3)\n",
        "  plt.setp(plt.gca().get_xticklabels(), rotation=30, horizontalalignment='right')\n",
        "\n",
        "  plt.show()"
      ],
      "execution_count": null,
      "outputs": []
    },
    {
      "cell_type": "code",
      "metadata": {
        "id": "M6IdJ8O33K7s"
      },
      "source": [
        "def plotDistribution(corr_list, X_train, y_train):\n",
        "  sorted_corr_list = list(corr_list)\n",
        "  sorted_corr_list.sort(reverse=True)\n",
        "\n",
        "  max_index = corr_list.index(sorted_corr_list[0])\n",
        "  sec_max_index = corr_list.index(sorted_corr_list[1])\n",
        "\n",
        "  color_list = []\n",
        "  max_cases = max(y_train)\n",
        "\n",
        "  for i in y_train:\n",
        "    color = [i / max_cases, 0, 0]\n",
        "    color_list.append(color)\n",
        "\n",
        "  color_list = np.array(color_list)\n",
        "\n",
        "  plt.subplot(1, 2, 1)\n",
        "  plt.scatter(X_train[:,max_index], X_train[:,sec_max_index], c=color_list)\n",
        "  plt.subplot(1, 2, 2)\n",
        "  plt.scatter(np.full(y_train.shape, 0, dtype=int), y_train, c=color_list)\n",
        "  plt.tight_layout()\n",
        "  plt.show()"
      ],
      "execution_count": null,
      "outputs": []
    },
    {
      "cell_type": "markdown",
      "metadata": {
        "id": "S0SyMfFGu3i8"
      },
      "source": [
        "### Image"
      ]
    },
    {
      "cell_type": "code",
      "metadata": {
        "id": "ZvyE1Bzo7HKL"
      },
      "source": [
        "def readImg(img_path, resize_ratio=None):\n",
        "  img = io.imread(img_path)\n",
        "\n",
        "  if resize_ratio:\n",
        "    img_rescale = rescale(img, resize_ratio, anti_aliasing=True)\n",
        "\n",
        "  print(os.path.basename(img_path), '(origin shape:', img.shape, '-> rescale:', str(img_rescale.shape) + ')')\n",
        "  return img_rescale"
      ],
      "execution_count": null,
      "outputs": []
    },
    {
      "cell_type": "markdown",
      "metadata": {
        "id": "N5EYXGzvu6Kp"
      },
      "source": [
        "### Split traing and testing set"
      ]
    },
    {
      "cell_type": "code",
      "metadata": {
        "id": "wcq2BFi38MW5"
      },
      "source": [
        "def splitTrainTestSet(ratio):\n",
        "  # Split the data into training (ratio) and testing (1 - ratio)\n",
        "  train_val_ratio = ratio\n",
        "  train_num = int(len(info_dict['Image']) * train_val_ratio)\n",
        "\n",
        "  # Change list to array\n",
        "  origin_dimension_X = np.array(info_dict['Image'])\n",
        "  labels = np.array(info_dict['cases_medellin'])\n",
        "\n",
        "  print(''.center(60,'-'))\n",
        "\n",
        "  origin_X_train = origin_dimension_X[:train_num,:,:,:]\n",
        "  y_train = labels[:train_num]\n",
        "  origin_X_test = origin_dimension_X[train_num:,:,:,:]\n",
        "  y_test = labels[train_num:]\n",
        "\n",
        "  print('Total number of weeks:'.ljust(30), len(origin_dimension_X), 'weeks')\n",
        "  print('Training input:'.ljust(30), origin_X_train.shape)\n",
        "  print('Training output:'.ljust(30), y_train.shape)\n",
        "  print('Testing input:'.ljust(30), origin_X_test.shape)\n",
        "  print('Testing output:'.ljust(30), y_test.shape) \n",
        "\n",
        "  return origin_X_train, y_train, origin_X_test, y_test"
      ],
      "execution_count": null,
      "outputs": []
    },
    {
      "cell_type": "markdown",
      "metadata": {
        "id": "Qk6IPZ-Xu9rF"
      },
      "source": [
        "### Load csv and image data"
      ]
    },
    {
      "cell_type": "code",
      "metadata": {
        "id": "_nucXPOKEo_b"
      },
      "source": [
        "# Load data from one of the source\n",
        "def loadData(csv_folder, img_folder, option=None, resize_ratio=None):\n",
        "  if option is None:\n",
        "    # Get data by combining from csv and images\n",
        "    df = loadStructuredData(csv_folder)\n",
        "    info_dict = combineData(img_folder, df, resize_ratio)\n",
        "    \n",
        "    print(len(info_dict['LastDayWeek']), len(info_dict['Image']), len(info_dict['cases_medellin']))\n",
        "\n",
        "  else:\n",
        "    # Load data from previous pickle file\n",
        "    info_dict = loadDataFromPickle(option)\n",
        "  return info_dict"
      ],
      "execution_count": null,
      "outputs": []
    },
    {
      "cell_type": "code",
      "metadata": {
        "id": "GPhprhk73Yj1"
      },
      "source": [
        "def combineData(img_folder, df, resize_ratio=None):\n",
        "  info_dict = {'LastDayWeek':[], 'cases_medellin':[], 'Image':[], 'epi_week':[]}\n",
        "  img_list = os.listdir(img_folder)\n",
        "\n",
        "  for index, row in df.iterrows():\n",
        "    name = row['LastDayWeek']\n",
        "    week_df = str(getEpiWeek(name))\n",
        "    case = row['cases_medellin']\n",
        "    for img_name in img_list:\n",
        "      \n",
        "      # If image name is image_2017-12-24.tiff -> get 2017-12-24\n",
        "      # Reference Links: https://www.w3schools.com/python/ref_string_join.asp, \n",
        "      #                  https://stackoverflow.com/questions/13174468/how-do-you-join-all-items-in-a-list/13175535\n",
        "      new_img_name = ''.join(i for i in img_name if i.isdigit() or i == '-')      \n",
        "\n",
        "      week_img = str(getEpiWeek(new_img_name))\n",
        "\n",
        "      if week_df == week_img:\n",
        "        img_path = os.path.join(img_folder, img_name)\n",
        "        img = readImg(img_path, resize_ratio)\n",
        "\n",
        "        info_dict['Image'].append(img)\n",
        "        info_dict['LastDayWeek'].append(name)\n",
        "        info_dict['cases_medellin'].append(case)\n",
        "        info_dict['epi_week'].append(week_df)\n",
        "        break\n",
        "\n",
        "  return info_dict"
      ],
      "execution_count": null,
      "outputs": []
    },
    {
      "cell_type": "markdown",
      "metadata": {
        "id": "iLc9X_o2vDww"
      },
      "source": [
        "### Dimensionality reduction - PCA"
      ]
    },
    {
      "cell_type": "code",
      "metadata": {
        "id": "aJg4PwES7L1T"
      },
      "source": [
        "def dimension_reduct_with_PCA(origin_X_train, origin_X_test, y_train):\n",
        "  print(' PRINCIPAL COMPONENT ANALYSIS  '.center(100, '='))\n",
        "\n",
        "  reshape_X_train = origin_X_train.reshape(origin_X_train.shape[0], -1)\n",
        "  reshape_X_test = origin_X_test.reshape(origin_X_test.shape[0], -1)\n",
        "\n",
        "  pca = PCA(n_components=0.95) \n",
        "  pca_X_train = pca.fit_transform(reshape_X_train)\n",
        "\n",
        "  pca_X_test = pca.transform(reshape_X_test)\n",
        "  print('Origin shape'.ljust(15), reshape_X_train.shape)\n",
        "  print('Resize shape'.ljust(15), pca_X_train.shape)  \n",
        "\n",
        "  return pca_X_train, pca_X_test"
      ],
      "execution_count": null,
      "outputs": []
    },
    {
      "cell_type": "code",
      "metadata": {
        "id": "Aioj_XnOSpaw"
      },
      "source": [
        "def pca_per_band(origin_X_train, origin_X_test, y_train):\n",
        "  pca_X_train = None\n",
        "  pca_X_test = None\n",
        "  for band in range(origin_X_train.shape[3]):\n",
        "    pca_band_train, pca_band_test = dimension_reduct_with_PCA(origin_X_train, origin_X_test, y_train)\n",
        "    if pca_X_train is None and pca_X_test is None:\n",
        "      pca_X_train = pca_band_train\n",
        "      pca_X_test = pca_band_test\n",
        "    else:\n",
        "      pca_X_train = np.append(pca_X_train, pca_band_train, axis = 1)\n",
        "      pca_X_test = np.append(pca_X_test, pca_band_test, axis = 1)\n",
        "  \n",
        "  print(pca_X_train.shape, pca_X_test.shape)\n",
        "  return pca_X_train, pca_X_test"
      ],
      "execution_count": null,
      "outputs": []
    },
    {
      "cell_type": "markdown",
      "metadata": {
        "id": "4Km6do3bvRKw"
      },
      "source": [
        "### Dimensionality reduction - LLE"
      ]
    },
    {
      "cell_type": "code",
      "metadata": {
        "id": "e77g9RiC6EHn"
      },
      "source": [
        "def dimension_reduct_with_LLE(origin_X_train, origin_X_test, y_train):\n",
        "  print(' LOCALLY LINEAR EMBEDDING '.center(100, '='))\n",
        "\n",
        "  reshape_X_train = origin_X_train.reshape(origin_X_train.shape[0], -1)\n",
        "  reshape_X_test = origin_X_test.reshape(origin_X_test.shape[0], -1)\n",
        "\n",
        "  embedding = LocallyLinearEmbedding(n_components=2, neighbors_algorithm='kd_tree')\n",
        "  lle_X_train = embedding.fit_transform(reshape_X_train, y_train)\n",
        "  lle_X_test = embedding.transform(reshape_X_test)\n",
        "\n",
        "  return lle_X_train, lle_X_test"
      ],
      "execution_count": null,
      "outputs": []
    },
    {
      "cell_type": "markdown",
      "metadata": {
        "id": "cWEMb1ZjvUTq"
      },
      "source": [
        "### Model - LR"
      ]
    },
    {
      "cell_type": "code",
      "metadata": {
        "id": "NEF-AWAf5ka7"
      },
      "source": [
        "def classified_with_LR(origin_X_train, origin_X_test, y_train, y_test):\n",
        "  print('[Linear Regression]'.center(100, '-'))\n",
        "\n",
        "  reshape_X_train = origin_X_train.reshape(origin_X_train.shape[0], -1)\n",
        "  reshape_X_test = origin_X_test.reshape(origin_X_test.shape[0], -1)\n",
        "\n",
        "  regr = linear_model.LinearRegression()\n",
        "  regr.fit(reshape_X_train, y_train)\n",
        "\n",
        "  float_y_pred = regr.predict(reshape_X_test)\n",
        "  int_y_pred = [int(i) for i in float_y_pred]\n",
        "\n",
        "  print('Predicted')\n",
        "  print(' '.ljust(3, ' '), 'List =', int_y_pred)\n",
        "  print(' '.ljust(3, ' '), 'Mean =', round(np.mean(int_y_pred), 4))\n",
        "  print('')\n",
        "\n",
        "  print('Real')\n",
        "  print(' '.ljust(3, ' '), 'List =', y_test)\n",
        "  print(' '.ljust(3, ' '), 'Mean =', round(np.mean(y_test), 4))\n",
        "  print('')\n",
        "\n",
        "  MAE = get_MAE_score(y_test, int_y_pred)\n",
        "  MAPE = get_MAPE_score(y_test, int_y_pred)\n",
        "\n",
        "  print('- MAE: ', str(MAE).rjust(8), '(cases different in average)')\n",
        "  print('- MAPE:', str(MAPE).rjust(8), '(times different in average)')\n",
        "\n",
        "  return MAE, MAPE"
      ],
      "execution_count": null,
      "outputs": []
    },
    {
      "cell_type": "markdown",
      "metadata": {
        "id": "Pph6i9sHvurx"
      },
      "source": [
        "### Model - SVR"
      ]
    },
    {
      "cell_type": "code",
      "metadata": {
        "id": "QqTl3o547XQ6"
      },
      "source": [
        "def classified_with_SVR(origin_X_train, origin_X_test, y_train, y_test):\n",
        "  print('[SVR]'.center(100, '-'))\n",
        "\n",
        "  reshape_X_train = origin_X_train.reshape(origin_X_train.shape[0], -1)\n",
        "  reshape_X_test = origin_X_test.reshape(origin_X_test.shape[0], -1)\n",
        "\n",
        "  regressor = SVR(C=1.0, epsilon=0.2)\n",
        "  regressor.fit(reshape_X_train, y_train)\n",
        "\n",
        "  float_y_pred = regressor.predict(reshape_X_test)\n",
        "  int_y_pred = [int(i) for i in float_y_pred]\n",
        "\n",
        "  print('Predicted')\n",
        "  print(' '.ljust(3, ' '), 'List =', int_y_pred)\n",
        "  print(' '.ljust(3, ' '), 'Mean =', round(np.mean(int_y_pred), 4))\n",
        "  print('')\n",
        "\n",
        "  print('Real')\n",
        "  print(' '.ljust(3, ' '), 'List =', y_test)\n",
        "  print(' '.ljust(3, ' '), 'Mean =', round(np.mean(y_test), 4))\n",
        "  print('')\n",
        "  \n",
        "  MAE = get_MAE_score(y_test, int_y_pred)\n",
        "  MAPE = get_MAPE_score(y_test, int_y_pred)\n",
        "  \n",
        "  print('- MAE: ', str(MAE).rjust(8), '(cases different in average)')\n",
        "  print('- MAPE:', str(MAPE).rjust(8), '(times different in average)')\n",
        "\n",
        "  return MAE, MAPE"
      ],
      "execution_count": null,
      "outputs": []
    },
    {
      "cell_type": "markdown",
      "metadata": {
        "id": "x_5iiCDpvBag"
      },
      "source": [
        "### Evaluation metrics"
      ]
    },
    {
      "cell_type": "code",
      "metadata": {
        "id": "eFu2p9ERQohZ"
      },
      "source": [
        "def calCorrelation(data, label):\n",
        "  corr = np.corrcoef(data, label)[0, 1]\n",
        "  return round(corr, 4)"
      ],
      "execution_count": null,
      "outputs": []
    },
    {
      "cell_type": "code",
      "metadata": {
        "id": "Fr76lZu5d-ZB"
      },
      "source": [
        "def get_MAPE_score(y_true, y_pred):\n",
        "  \"\"\"Get Mean Absolute Percentage Error (MAPE)\n",
        "  \n",
        "  Calculate the MAPE score based on the prediction. \n",
        "  The lower MAPE socre is, the better the predictions are.\n",
        "\n",
        "  \"\"\"\n",
        "  return round(mean_absolute_percentage_error(y_true, y_pred), 4)"
      ],
      "execution_count": null,
      "outputs": []
    },
    {
      "cell_type": "code",
      "metadata": {
        "id": "bJb-HT_4dxmh"
      },
      "source": [
        "def get_MAE_score(y_test, y_pred):\n",
        "  return round(mean_absolute_error(y_test, y_pred), 4)"
      ],
      "execution_count": null,
      "outputs": []
    },
    {
      "cell_type": "markdown",
      "metadata": {
        "id": "yQTM0ZTP-fNQ"
      },
      "source": [
        "# 12-band Images Run Here"
      ]
    },
    {
      "cell_type": "code",
      "metadata": {
        "colab": {
          "base_uri": "https://localhost:8080/"
        },
        "id": "IkaBRXTRhMdI",
        "outputId": "cee920b5-b996-440f-83b7-96f6f1514870"
      },
      "source": [
        "# Define main folder\n",
        "dataset_folder = '/content/drive/MyDrive/Dengue forecasting with Satellite Images/dataset'\n",
        "\n",
        "# Define image folder\n",
        "image_name = 'image/image_12_band'\n",
        "img_folder = os.path.join(dataset_folder, image_name)\n",
        "\n",
        "# Define csv folder\n",
        "csv_name = 'csv/merge_cases_timeseries.csv'\n",
        "csv_folder = os.path.join(dataset_folder, csv_name)\n",
        "info_dict = loadData(csv_folder, img_folder, resize_ratio=(0.5, 0.5, 1))\n",
        "\n",
        "print('INFO_DICT'.center(50, '-'))\n",
        "print('keys:', info_dict.keys())\n",
        "print('')\n",
        "\n",
        "print('DENGUE CASES'.center(50, '-'))\n",
        "print('Max weekly dengue cases:', max(info_dict['cases_medellin']))\n",
        "print('Min weekly dengue cases:', min(info_dict['cases_medellin']))\n",
        "print('')\n",
        "\n",
        "print('WEEKS'.center(50, '-'))\n",
        "print('Max week:', max(info_dict['LastDayWeek']))\n",
        "print('Min week:', min(info_dict['LastDayWeek']))"
      ],
      "execution_count": null,
      "outputs": [
        {
          "output_type": "stream",
          "name": "stdout",
          "text": [
            "image_2015-11-01.tiff (origin shape: (1205, 765, 12) -> rescale: (602, 382, 12))\n",
            "image_2015-11-08.tiff (origin shape: (1205, 765, 12) -> rescale: (602, 382, 12))\n",
            "image_2015-11-15.tiff (origin shape: (1205, 765, 12) -> rescale: (602, 382, 12))\n",
            "image_2015-11-22.tiff (origin shape: (1205, 765, 12) -> rescale: (602, 382, 12))\n",
            "image_2015-11-29.tiff (origin shape: (1205, 765, 12) -> rescale: (602, 382, 12))\n",
            "image_2015-12-06.tiff (origin shape: (1205, 765, 12) -> rescale: (602, 382, 12))\n",
            "image_2015-12-13.tiff (origin shape: (1205, 765, 12) -> rescale: (602, 382, 12))\n",
            "image_2015-12-20.tiff (origin shape: (1205, 765, 12) -> rescale: (602, 382, 12))\n",
            "image_2015-12-27.tiff (origin shape: (1205, 765, 12) -> rescale: (602, 382, 12))\n",
            "image_2016-01-03.tiff (origin shape: (1205, 765, 12) -> rescale: (602, 382, 12))\n",
            "image_2016-01-10.tiff (origin shape: (1205, 765, 12) -> rescale: (602, 382, 12))\n",
            "image_2016-01-17.tiff (origin shape: (1205, 765, 12) -> rescale: (602, 382, 12))\n",
            "image_2016-01-24.tiff (origin shape: (1205, 765, 12) -> rescale: (602, 382, 12))\n",
            "image_2016-01-31.tiff (origin shape: (1205, 765, 12) -> rescale: (602, 382, 12))\n",
            "image_2016-02-07.tiff (origin shape: (1205, 765, 12) -> rescale: (602, 382, 12))\n",
            "image_2016-02-14.tiff (origin shape: (1205, 765, 12) -> rescale: (602, 382, 12))\n",
            "image_2016-02-21.tiff (origin shape: (1205, 765, 12) -> rescale: (602, 382, 12))\n",
            "image_2016-02-28.tiff (origin shape: (1205, 765, 12) -> rescale: (602, 382, 12))\n",
            "image_2016-03-06.tiff (origin shape: (1205, 765, 12) -> rescale: (602, 382, 12))\n",
            "image_2016-03-13.tiff (origin shape: (1205, 765, 12) -> rescale: (602, 382, 12))\n",
            "image_2016-03-20.tiff (origin shape: (1205, 765, 12) -> rescale: (602, 382, 12))\n",
            "image_2016-03-27.tiff (origin shape: (1205, 765, 12) -> rescale: (602, 382, 12))\n",
            "image_2016-04-03.tiff (origin shape: (1205, 765, 12) -> rescale: (602, 382, 12))\n",
            "image_2016-04-10.tiff (origin shape: (1205, 765, 12) -> rescale: (602, 382, 12))\n",
            "image_2016-04-17.tiff (origin shape: (1205, 765, 12) -> rescale: (602, 382, 12))\n",
            "image_2016-04-24.tiff (origin shape: (1205, 765, 12) -> rescale: (602, 382, 12))\n",
            "image_2016-05-01.tiff (origin shape: (1205, 765, 12) -> rescale: (602, 382, 12))\n",
            "image_2016-05-08.tiff (origin shape: (1205, 765, 12) -> rescale: (602, 382, 12))\n",
            "image_2016-05-15.tiff (origin shape: (1205, 765, 12) -> rescale: (602, 382, 12))\n",
            "image_2016-05-22.tiff (origin shape: (1205, 765, 12) -> rescale: (602, 382, 12))\n",
            "image_2016-05-29.tiff (origin shape: (1205, 765, 12) -> rescale: (602, 382, 12))\n",
            "image_2016-06-05.tiff (origin shape: (1205, 765, 12) -> rescale: (602, 382, 12))\n",
            "image_2016-06-12.tiff (origin shape: (1205, 765, 12) -> rescale: (602, 382, 12))\n",
            "image_2016-06-19.tiff (origin shape: (1205, 765, 12) -> rescale: (602, 382, 12))\n",
            "image_2016-06-26.tiff (origin shape: (1205, 765, 12) -> rescale: (602, 382, 12))\n",
            "image_2016-07-03.tiff (origin shape: (1205, 765, 12) -> rescale: (602, 382, 12))\n",
            "image_2016-07-10.tiff (origin shape: (1205, 765, 12) -> rescale: (602, 382, 12))\n",
            "image_2016-07-17.tiff (origin shape: (1205, 765, 12) -> rescale: (602, 382, 12))\n",
            "image_2016-07-24.tiff (origin shape: (1205, 765, 12) -> rescale: (602, 382, 12))\n",
            "image_2016-07-31.tiff (origin shape: (1205, 765, 12) -> rescale: (602, 382, 12))\n",
            "image_2016-08-07.tiff (origin shape: (1205, 765, 12) -> rescale: (602, 382, 12))\n",
            "image_2016-08-14.tiff (origin shape: (1205, 765, 12) -> rescale: (602, 382, 12))\n",
            "image_2016-08-21.tiff (origin shape: (1205, 765, 12) -> rescale: (602, 382, 12))\n",
            "image_2016-08-28.tiff (origin shape: (1205, 765, 12) -> rescale: (602, 382, 12))\n",
            "image_2016-09-04.tiff (origin shape: (1205, 765, 12) -> rescale: (602, 382, 12))\n",
            "image_2016-09-11.tiff (origin shape: (1205, 765, 12) -> rescale: (602, 382, 12))\n",
            "image_2016-09-18.tiff (origin shape: (1205, 765, 12) -> rescale: (602, 382, 12))\n",
            "image_2016-09-25.tiff (origin shape: (1205, 765, 12) -> rescale: (602, 382, 12))\n",
            "image_2016-10-02.tiff (origin shape: (1205, 765, 12) -> rescale: (602, 382, 12))\n",
            "image_2016-10-09.tiff (origin shape: (1205, 765, 12) -> rescale: (602, 382, 12))\n",
            "image_2016-10-16.tiff (origin shape: (1205, 765, 12) -> rescale: (602, 382, 12))\n",
            "image_2016-10-23.tiff (origin shape: (1205, 765, 12) -> rescale: (602, 382, 12))\n",
            "image_2016-10-30.tiff (origin shape: (1205, 765, 12) -> rescale: (602, 382, 12))\n",
            "image_2016-11-06.tiff (origin shape: (1205, 765, 12) -> rescale: (602, 382, 12))\n",
            "image_2016-11-13.tiff (origin shape: (1205, 765, 12) -> rescale: (602, 382, 12))\n",
            "image_2016-11-20.tiff (origin shape: (1205, 765, 12) -> rescale: (602, 382, 12))\n",
            "image_2016-11-27.tiff (origin shape: (1205, 765, 12) -> rescale: (602, 382, 12))\n",
            "image_2016-12-04.tiff (origin shape: (1205, 765, 12) -> rescale: (602, 382, 12))\n",
            "image_2016-12-11.tiff (origin shape: (1205, 765, 12) -> rescale: (602, 382, 12))\n",
            "image_2016-12-18.tiff (origin shape: (1205, 765, 12) -> rescale: (602, 382, 12))\n",
            "image_2017-01-01.tiff (origin shape: (1205, 765, 12) -> rescale: (602, 382, 12))\n",
            "image_2017-01-01.tiff (origin shape: (1205, 765, 12) -> rescale: (602, 382, 12))\n",
            "image_2017-01-08.tiff (origin shape: (1205, 765, 12) -> rescale: (602, 382, 12))\n",
            "image_2017-01-15.tiff (origin shape: (1205, 765, 12) -> rescale: (602, 382, 12))\n",
            "image_2017-01-22.tiff (origin shape: (1205, 765, 12) -> rescale: (602, 382, 12))\n",
            "image_2017-01-29.tiff (origin shape: (1205, 765, 12) -> rescale: (602, 382, 12))\n",
            "image_2017-02-05.tiff (origin shape: (1205, 765, 12) -> rescale: (602, 382, 12))\n",
            "image_2017-02-12.tiff (origin shape: (1205, 765, 12) -> rescale: (602, 382, 12))\n",
            "image_2017-02-19.tiff (origin shape: (1205, 765, 12) -> rescale: (602, 382, 12))\n",
            "image_2017-02-26.tiff (origin shape: (1205, 765, 12) -> rescale: (602, 382, 12))\n",
            "image_2017-03-05.tiff (origin shape: (1205, 765, 12) -> rescale: (602, 382, 12))\n",
            "image_2017-03-12.tiff (origin shape: (1205, 765, 12) -> rescale: (602, 382, 12))\n",
            "image_2017-03-19.tiff (origin shape: (1205, 765, 12) -> rescale: (602, 382, 12))\n",
            "image_2017-03-26.tiff (origin shape: (1205, 765, 12) -> rescale: (602, 382, 12))\n",
            "image_2017-04-02.tiff (origin shape: (1205, 765, 12) -> rescale: (602, 382, 12))\n",
            "image_2017-04-09.tiff (origin shape: (1205, 765, 12) -> rescale: (602, 382, 12))\n",
            "image_2017-04-16.tiff (origin shape: (1205, 765, 12) -> rescale: (602, 382, 12))\n",
            "image_2017-04-23.tiff (origin shape: (1205, 765, 12) -> rescale: (602, 382, 12))\n",
            "image_2017-04-30.tiff (origin shape: (1205, 765, 12) -> rescale: (602, 382, 12))\n",
            "image_2017-05-07.tiff (origin shape: (1205, 765, 12) -> rescale: (602, 382, 12))\n",
            "image_2017-05-14.tiff (origin shape: (1205, 765, 12) -> rescale: (602, 382, 12))\n",
            "image_2017-05-21.tiff (origin shape: (1205, 765, 12) -> rescale: (602, 382, 12))\n",
            "image_2017-05-28.tiff (origin shape: (1205, 765, 12) -> rescale: (602, 382, 12))\n",
            "image_2017-06-04.tiff (origin shape: (1205, 765, 12) -> rescale: (602, 382, 12))\n",
            "image_2017-06-11.tiff (origin shape: (1205, 765, 12) -> rescale: (602, 382, 12))\n",
            "image_2017-06-18.tiff (origin shape: (1205, 765, 12) -> rescale: (602, 382, 12))\n",
            "image_2017-06-25.tiff (origin shape: (1205, 765, 12) -> rescale: (602, 382, 12))\n",
            "image_2017-07-02.tiff (origin shape: (1205, 765, 12) -> rescale: (602, 382, 12))\n",
            "image_2017-07-09.tiff (origin shape: (1205, 765, 12) -> rescale: (602, 382, 12))\n",
            "image_2017-07-16.tiff (origin shape: (1205, 765, 12) -> rescale: (602, 382, 12))\n",
            "image_2017-07-23.tiff (origin shape: (1205, 765, 12) -> rescale: (602, 382, 12))\n",
            "image_2017-07-30.tiff (origin shape: (1205, 765, 12) -> rescale: (602, 382, 12))\n",
            "image_2017-08-06.tiff (origin shape: (1205, 765, 12) -> rescale: (602, 382, 12))\n",
            "image_2017-08-13.tiff (origin shape: (1205, 765, 12) -> rescale: (602, 382, 12))\n",
            "image_2017-08-20.tiff (origin shape: (1205, 765, 12) -> rescale: (602, 382, 12))\n",
            "image_2017-08-27.tiff (origin shape: (1205, 765, 12) -> rescale: (602, 382, 12))\n",
            "image_2017-09-03.tiff (origin shape: (1205, 765, 12) -> rescale: (602, 382, 12))\n",
            "image_2017-09-10.tiff (origin shape: (1205, 765, 12) -> rescale: (602, 382, 12))\n",
            "image_2017-09-17.tiff (origin shape: (1205, 765, 12) -> rescale: (602, 382, 12))\n",
            "image_2017-09-24.tiff (origin shape: (1205, 765, 12) -> rescale: (602, 382, 12))\n",
            "image_2017-10-01.tiff (origin shape: (1205, 765, 12) -> rescale: (602, 382, 12))\n",
            "image_2017-10-08.tiff (origin shape: (1205, 765, 12) -> rescale: (602, 382, 12))\n",
            "image_2017-10-15.tiff (origin shape: (1205, 765, 12) -> rescale: (602, 382, 12))\n",
            "image_2017-10-22.tiff (origin shape: (1205, 765, 12) -> rescale: (602, 382, 12))\n",
            "image_2017-10-29.tiff (origin shape: (1205, 765, 12) -> rescale: (602, 382, 12))\n",
            "image_2017-11-05.tiff (origin shape: (1205, 765, 12) -> rescale: (602, 382, 12))\n",
            "image_2017-11-12.tiff (origin shape: (1205, 765, 12) -> rescale: (602, 382, 12))\n",
            "image_2017-11-19.tiff (origin shape: (1205, 765, 12) -> rescale: (602, 382, 12))\n",
            "image_2017-11-26.tiff (origin shape: (1205, 765, 12) -> rescale: (602, 382, 12))\n",
            "image_2017-12-03.tiff (origin shape: (1205, 765, 12) -> rescale: (602, 382, 12))\n",
            "image_2017-12-10.tiff (origin shape: (1205, 765, 12) -> rescale: (602, 382, 12))\n",
            "image_2017-12-17.tiff (origin shape: (1205, 765, 12) -> rescale: (602, 382, 12))\n",
            "112 112 112\n",
            "--------------------INFO_DICT---------------------\n",
            "keys: dict_keys(['LastDayWeek', 'cases_medellin', 'Image', 'epi_week'])\n",
            "\n",
            "-------------------DENGUE CASES-------------------\n",
            "Max weekly dengue cases: 592\n",
            "Min weekly dengue cases: 14\n",
            "\n",
            "----------------------WEEKS-----------------------\n",
            "Max week: 2017-12-23\n",
            "Min week: 2015-11-07\n"
          ]
        }
      ]
    },
    {
      "cell_type": "code",
      "metadata": {
        "colab": {
          "base_uri": "https://localhost:8080/"
        },
        "id": "HXXLV5Z59YWw",
        "outputId": "4f75339c-279f-43be-e08b-951293e437ea"
      },
      "source": [
        "print(info_dict['epi_week'])"
      ],
      "execution_count": null,
      "outputs": [
        {
          "output_type": "stream",
          "name": "stdout",
          "text": [
            "['201544', '201545', '201546', '201547', '201548', '201549', '201550', '201551', '201552', '201601', '201602', '201603', '201604', '201605', '201606', '201607', '201608', '201609', '201610', '201611', '201612', '201613', '201614', '201615', '201616', '201617', '201618', '201619', '201620', '201621', '201622', '201623', '201624', '201625', '201626', '201627', '201628', '201629', '201630', '201631', '201632', '201633', '201634', '201635', '201636', '201637', '201638', '201639', '201640', '201641', '201642', '201643', '201644', '201645', '201646', '201647', '201648', '201649', '201650', '201651', '201701', '201701', '201702', '201703', '201704', '201705', '201706', '201707', '201708', '201709', '201710', '201711', '201712', '201713', '201714', '201715', '201716', '201717', '201718', '201719', '201720', '201721', '201722', '201723', '201724', '201725', '201726', '201727', '201728', '201729', '201730', '201731', '201732', '201733', '201734', '201735', '201736', '201737', '201738', '201739', '201740', '201741', '201742', '201743', '201744', '201745', '201746', '201747', '201748', '201749', '201750', '201751']\n"
          ]
        }
      ]
    },
    {
      "cell_type": "markdown",
      "metadata": {
        "id": "6KMN9fBm-O4R"
      },
      "source": [
        "## Data Distrubtion Visualization"
      ]
    },
    {
      "cell_type": "code",
      "metadata": {
        "id": "EdXTQWwKWDQ4",
        "colab": {
          "base_uri": "https://localhost:8080/",
          "height": 985
        },
        "outputId": "e8d493df-f198-46ab-8905-7ebdc5415ad4"
      },
      "source": [
        "x_axis = info_dict['LastDayWeek']\n",
        "y_axis = info_dict['cases_medellin']\n",
        "plotData(x_axis, y_axis, 'Images & Cases Intersection')\n",
        "\n",
        "dataset_folder = '/content/drive/MyDrive/Dengue forecasting with Satellite Images/dataset'\n",
        "csv_name = 'csv/merge_cases_timeseries.csv'\n",
        "csv_folder = os.path.join(dataset_folder, csv_name)\n",
        "df = loadStructuredData(csv_folder)\n",
        "\n",
        "x_axis = df['LastDayWeek']\n",
        "y_axis = df['cases_medellin'].astype(int)\n",
        "plotData(x_axis, y_axis, 'Cases')"
      ],
      "execution_count": null,
      "outputs": [
        {
          "output_type": "display_data",
          "data": {
            "image/png": "[encoded data removed]",
            "text/plain": [
              "<Figure size 864x576 with 1 Axes>"
            ]
          },
          "metadata": {
            "needs_background": "light"
          }
        },
        {
          "output_type": "display_data",
          "data": {
            "image/png": "[encoded data removed]",
            "text/plain": [
              "<Figure size 864x576 with 1 Axes>"
            ]
          },
          "metadata": {
            "needs_background": "light"
          }
        }
      ]
    },
    {
      "cell_type": "markdown",
      "metadata": {
        "id": "eFkbWi2aPqv3"
      },
      "source": [
        "## Test Different Combination"
      ]
    },
    {
      "cell_type": "markdown",
      "metadata": {
        "id": "CKJfHR7UnGgt"
      },
      "source": [
        "### Resized images without dimensionality reduction"
      ]
    },
    {
      "cell_type": "markdown",
      "metadata": {
        "id": "wdNlFDY22TAb"
      },
      "source": [
        "#### Split training and testing"
      ]
    },
    {
      "cell_type": "code",
      "metadata": {
        "colab": {
          "base_uri": "https://localhost:8080/"
        },
        "id": "b_JYXuRI68ZM",
        "outputId": "0aef920d-62be-47d4-a706-094ac2fd612f"
      },
      "source": [
        "origin_X_train, y_train, origin_X_test, y_test = splitTrainTestSet(0.8)"
      ],
      "execution_count": null,
      "outputs": [
        {
          "output_type": "stream",
          "name": "stdout",
          "text": [
            "------------------------------------------------------------\n",
            "Total number of weeks:         112 weeks\n",
            "Training input:                (89, 602, 382, 12)\n",
            "Training output:               (89,)\n",
            "Testing input:                 (23, 602, 382, 12)\n",
            "Testing output:                (23,)\n"
          ]
        }
      ]
    },
    {
      "cell_type": "markdown",
      "metadata": {
        "id": "voLlp1JBpqRH"
      },
      "source": [
        "#### First two bands"
      ]
    },
    {
      "cell_type": "code",
      "metadata": {
        "colab": {
          "base_uri": "https://localhost:8080/"
        },
        "id": "rLqXB9P0DPgP",
        "outputId": "04320465-b14e-46d9-91e8-736e59117dde"
      },
      "source": [
        "first_n_band = 2\n",
        "print(' RESIZED IMAGE WITHOUT DIMENSIONALITY REDUCTION : FIRST TWO BANDS '.center(100, '='))\n",
        "\n",
        "selected_X_train = origin_X_train[:, :, :, 0 : first_n_band]\n",
        "selected_X_test = origin_X_test[:, :, :, 0 : first_n_band]\n",
        "\n",
        "# LR\n",
        "MAE, MAPE = classified_with_LR(selected_X_train, selected_X_test, y_train, y_test)\n",
        "print('')\n",
        "\n",
        "# SVR \n",
        "MAE, MAPE = classified_with_SVR(selected_X_train, selected_X_test, y_train, y_test)"
      ],
      "execution_count": null,
      "outputs": [
        {
          "output_type": "stream",
          "name": "stdout",
          "text": [
            "================= RESIZED IMAGE WITHOUT DIMENSIONALITY REDUCTION : FIRST TWO BANDS =================\n",
            "----------------------------------------[Linear Regression]-----------------------------------------\n",
            "Predicted\n",
            "    List = [1673354267770, -22868437251675, -22511634620422, 53247525538014, -34717885302216, 60361240856599, -1854869421725, 5505640077899, 5908017111515, 34384319654725, 30436979969638, 19855009194995, 71443527575209, 6359414614693, -5929351554176, 35048408419020, 34576089118802, 78356080951674, -5295705872468, 17230452648749, 5040743547260, 6505502744062, 6123983873921]\n",
            "    Mean = 16472974180080.998\n",
            "\n",
            "Real\n",
            "    List = [36 38 27 14 44 29 31 39 37 42 31 29 27 27 24 27 22 28 21 30 14 22 19]\n",
            "    Mean = 28.6087\n",
            "\n",
            "- MAE:  24575398877693.0 (cases different in average)\n",
            "- MAPE: 939267873816.1606 (times different in average)\n",
            "-----------------------------------------------[SVR]------------------------------------------------\n",
            "Predicted\n",
            "    List = [186, 188, 188, 188, 188, 188, 188, 188, 186, 188, 188, 188, 188, 188, 189, 187, 188, 187, 187, 187, 188, 187, 186]\n",
            "    Mean = 187.5652\n",
            "\n",
            "Real\n",
            "    List = [36 38 27 14 44 29 31 39 37 42 31 29 27 27 24 27 22 28 21 30 14 22 19]\n",
            "    Mean = 28.6087\n",
            "\n",
            "- MAE:  158.9565 (cases different in average)\n",
            "- MAPE:   6.1741 (times different in average)\n"
          ]
        }
      ]
    },
    {
      "cell_type": "markdown",
      "metadata": {
        "id": "xxjcJrxXpzM9"
      },
      "source": [
        "#### All bands"
      ]
    },
    {
      "cell_type": "code",
      "metadata": {
        "colab": {
          "base_uri": "https://localhost:8080/"
        },
        "id": "kEf4RzDGR87F",
        "outputId": "98a8c0ed-72bb-4695-cb85-67523b758def"
      },
      "source": [
        "print(' RESIZED IMAGE WITHOUT DIMENSIONALITY REDUCTION : ALL BANDS '.center(100, ' '))\n",
        "print(''.center(100, '='))\n",
        "\n",
        "# LR\n",
        "MAE, MAPE = classified_with_LR(origin_X_train, origin_X_test, y_train, y_test)\n",
        "print('')\n",
        "\n",
        "# SVR \n",
        "MAE, MAPE = classified_with_SVR(origin_X_train, origin_X_test, y_train, y_test)"
      ],
      "execution_count": null,
      "outputs": [
        {
          "output_type": "stream",
          "name": "stdout",
          "text": [
            "                     RESIZED IMAGE WITHOUT DIMENSIONALITY REDUCTION : ALL BANDS                     \n",
            "====================================================================================================\n",
            "----------------------------------------[Linear Regression]-----------------------------------------\n",
            "Predicted\n",
            "    List = [735232989636, -8526366323040, -7573519815685, -2014298661537, -5152719209312, -8184875211498, 2414704583652, 1990400237346, -739508613604, 1805136965051, -458509643996, 3625276638322, 199694233821, -12744980917998, -353607020319, -963618376628, 7141116572792, -8286923335743, -4222487707085, -7178973501072, -10382527796988, 4607948639208, 2255792122843]\n",
            "    Mean = -2261200571818.8696\n",
            "\n",
            "Real\n",
            "    List = [36 38 27 14 44 29 31 39 37 42 31 29 27 27 24 27 22 28 21 30 14 22 19]\n",
            "    Mean = 28.6087\n",
            "\n",
            "- MAE:  4415574744230.435 (cases different in average)\n",
            "- MAPE: 176556141230.256 (times different in average)\n",
            "\n",
            "-----------------------------------------------[SVR]------------------------------------------------\n",
            "Predicted\n",
            "    List = [186, 188, 187, 187, 187, 188, 187, 187, 186, 187, 187, 187, 187, 188, 188, 187, 187, 186, 187, 187, 187, 187, 186]\n",
            "    Mean = 187.0\n",
            "\n",
            "Real\n",
            "    List = [36 38 27 14 44 29 31 39 37 42 31 29 27 27 24 27 22 28 21 30 14 22 19]\n",
            "    Mean = 28.6087\n",
            "\n",
            "- MAE:  158.3913 (cases different in average)\n",
            "- MAPE:   6.1519 (times different in average)\n"
          ]
        }
      ]
    },
    {
      "cell_type": "markdown",
      "metadata": {
        "id": "4l04W9cRnNn9"
      },
      "source": [
        "### Resized images with PCA per bands"
      ]
    },
    {
      "cell_type": "markdown",
      "metadata": {
        "id": "LV22845f2AYq"
      },
      "source": [
        "#### Perform dimensionality reduction"
      ]
    },
    {
      "cell_type": "code",
      "metadata": {
        "colab": {
          "base_uri": "https://localhost:8080/"
        },
        "id": "gQbyjnW2UN5X",
        "outputId": "a6a2f666-7981-449f-91f6-837be816b255"
      },
      "source": [
        "first_n_band = 2\n",
        "selected_X_train = origin_X_train[:, :, :, 0 : first_n_band]\n",
        "selected_X_test = origin_X_test[:, :, :, 0 : first_n_band]\n",
        "\n",
        "# First n bands\n",
        "n_band_pca_separate_X_train, n_band_pca_separate_X_test = pca_per_band(selected_X_train, selected_X_test, y_train)\n",
        "\n",
        "# All bands\n",
        "all_band_pca_separate_X_train, all_band_pca_separate_X_test = pca_per_band(origin_X_train, origin_X_test, y_train)"
      ],
      "execution_count": null,
      "outputs": [
        {
          "output_type": "stream",
          "name": "stdout",
          "text": [
            "================================== PRINCIPAL COMPONENT ANALYSIS  ===================================\n",
            "Origin shape    (89, 459928)\n",
            "Resize shape    (89, 39)\n",
            "================================== PRINCIPAL COMPONENT ANALYSIS  ===================================\n",
            "Origin shape    (89, 459928)\n",
            "Resize shape    (89, 39)\n",
            "(89, 78) (23, 78)\n",
            "================================== PRINCIPAL COMPONENT ANALYSIS  ===================================\n",
            "Origin shape    (89, 2759568)\n",
            "Resize shape    (89, 27)\n",
            "================================== PRINCIPAL COMPONENT ANALYSIS  ===================================\n",
            "Origin shape    (89, 2759568)\n",
            "Resize shape    (89, 27)\n",
            "================================== PRINCIPAL COMPONENT ANALYSIS  ===================================\n",
            "Origin shape    (89, 2759568)\n",
            "Resize shape    (89, 27)\n",
            "================================== PRINCIPAL COMPONENT ANALYSIS  ===================================\n",
            "Origin shape    (89, 2759568)\n",
            "Resize shape    (89, 27)\n",
            "================================== PRINCIPAL COMPONENT ANALYSIS  ===================================\n",
            "Origin shape    (89, 2759568)\n",
            "Resize shape    (89, 27)\n",
            "================================== PRINCIPAL COMPONENT ANALYSIS  ===================================\n",
            "Origin shape    (89, 2759568)\n",
            "Resize shape    (89, 27)\n",
            "================================== PRINCIPAL COMPONENT ANALYSIS  ===================================\n",
            "Origin shape    (89, 2759568)\n",
            "Resize shape    (89, 27)\n",
            "================================== PRINCIPAL COMPONENT ANALYSIS  ===================================\n",
            "Origin shape    (89, 2759568)\n",
            "Resize shape    (89, 27)\n",
            "================================== PRINCIPAL COMPONENT ANALYSIS  ===================================\n",
            "Origin shape    (89, 2759568)\n",
            "Resize shape    (89, 27)\n",
            "================================== PRINCIPAL COMPONENT ANALYSIS  ===================================\n",
            "Origin shape    (89, 2759568)\n",
            "Resize shape    (89, 27)\n",
            "================================== PRINCIPAL COMPONENT ANALYSIS  ===================================\n",
            "Origin shape    (89, 2759568)\n",
            "Resize shape    (89, 27)\n",
            "================================== PRINCIPAL COMPONENT ANALYSIS  ===================================\n",
            "Origin shape    (89, 2759568)\n",
            "Resize shape    (89, 27)\n",
            "(89, 324) (23, 324)\n"
          ]
        }
      ]
    },
    {
      "cell_type": "markdown",
      "metadata": {
        "id": "eJB3Unm2n_lJ"
      },
      "source": [
        "#### First two bands"
      ]
    },
    {
      "cell_type": "code",
      "metadata": {
        "colab": {
          "base_uri": "https://localhost:8080/"
        },
        "id": "YtH4fUKLOojP",
        "outputId": "eb996d04-f092-4607-9027-e65a25e052cd"
      },
      "source": [
        "# Linear Regression\n",
        "MAE, MAPE = classified_with_LR(n_band_pca_separate_X_train, n_band_pca_separate_X_test, y_train, y_test)\n",
        "print('')\n",
        "\n",
        "# SVR \n",
        "MAE, MAPE = classified_with_SVR(n_band_pca_separate_X_train, n_band_pca_separate_X_test, y_train, y_test)"
      ],
      "execution_count": null,
      "outputs": [
        {
          "output_type": "stream",
          "name": "stdout",
          "text": [
            "----------------------------------------[Linear Regression]-----------------------------------------\n",
            "Predicted\n",
            "    List = [124, 263, 151, 170, 121, 133, 201, 187, 217, 218, 154, 151, 9, 118, 142, 92, 214, 84, 150, 230, 38, 93, 168]\n",
            "    Mean = 149.0435\n",
            "\n",
            "Real\n",
            "    List = [36 38 27 14 44 29 31 39 37 42 31 29 27 27 24 27 22 28 21 30 14 22 19]\n",
            "    Mean = 28.6087\n",
            "\n",
            "- MAE:     122.0 (cases different in average)\n",
            "- MAPE:   4.5055 (times different in average)\n",
            "-----------------------------------------------[SVR]------------------------------------------------\n",
            "Predicted\n",
            "    List = [186, 189, 188, 188, 189, 189, 189, 188, 186, 189, 188, 188, 189, 189, 190, 188, 188, 187, 187, 187, 188, 188, 186]\n",
            "    Mean = 188.0\n",
            "\n",
            "Real\n",
            "    List = [36 38 27 14 44 29 31 39 37 42 31 29 27 27 24 27 22 28 21 30 14 22 19]\n",
            "    Mean = 28.6087\n",
            "\n",
            "- MAE:  159.3913 (cases different in average)\n",
            "- MAPE:   6.1888 (times different in average)\n"
          ]
        }
      ]
    },
    {
      "cell_type": "markdown",
      "metadata": {
        "id": "dthF867voEDk"
      },
      "source": [
        "#### All bands"
      ]
    },
    {
      "cell_type": "code",
      "metadata": {
        "id": "9CGtUU53Dafp",
        "colab": {
          "base_uri": "https://localhost:8080/"
        },
        "outputId": "bbc52c5a-530e-4845-a74f-4b28f6f4c54c"
      },
      "source": [
        "# Linear Regression\n",
        "MAE, MAPE = classified_with_LR(all_band_pca_separate_X_train, all_band_pca_separate_X_test, y_train, y_test)\n",
        "print('')\n",
        "\n",
        "# SVR \n",
        "MAE, MAPE = classified_with_SVR(all_band_pca_separate_X_train, all_band_pca_separate_X_test, y_train, y_test)"
      ],
      "execution_count": null,
      "outputs": [
        {
          "output_type": "stream",
          "name": "stdout",
          "text": [
            "----------------------------------------[Linear Regression]-----------------------------------------\n",
            "Predicted\n",
            "    List = [204, 206, 214, 237, 121, 209, 275, 252, 225, 264, 209, 198, -24, 207, -24, -4, 213, 28, 161, -50, 110, 147, 205]\n",
            "    Mean = 155.7826\n",
            "\n",
            "Real\n",
            "    List = [36 38 27 14 44 29 31 39 37 42 31 29 27 27 24 27 22 28 21 30 14 22 19]\n",
            "    Mean = 28.6087\n",
            "\n",
            "- MAE:  145.4348 (cases different in average)\n",
            "- MAPE:   5.5311 (times different in average)\n",
            "-----------------------------------------------[SVR]------------------------------------------------\n",
            "Predicted\n",
            "    List = [186, 189, 187, 187, 187, 188, 187, 187, 186, 187, 188, 187, 187, 189, 188, 186, 187, 186, 187, 187, 187, 187, 186]\n",
            "    Mean = 187.087\n",
            "\n",
            "Real\n",
            "    List = [36 38 27 14 44 29 31 39 37 42 31 29 27 27 24 27 22 28 21 30 14 22 19]\n",
            "    Mean = 28.6087\n",
            "\n",
            "- MAE:  158.4783 (cases different in average)\n",
            "- MAPE:   6.1544 (times different in average)\n"
          ]
        }
      ]
    },
    {
      "cell_type": "markdown",
      "metadata": {
        "id": "4ZIGVp-xoGK1"
      },
      "source": [
        "### Resized images with PCA (all bands together)"
      ]
    },
    {
      "cell_type": "markdown",
      "metadata": {
        "id": "tl4mBEl02Hic"
      },
      "source": [
        "#### Perform dimensionality reduction"
      ]
    },
    {
      "cell_type": "code",
      "metadata": {
        "colab": {
          "base_uri": "https://localhost:8080/"
        },
        "id": "BygSiP4mx3GJ",
        "outputId": "fb7c4b40-f454-4f0a-e4ca-a950cf803d0b"
      },
      "source": [
        "first_n_band = 2\n",
        "selected_X_train = origin_X_train[:, :, :, 0 : first_n_band]\n",
        "selected_X_test = origin_X_test[:, :, :, 0 : first_n_band]\n",
        "\n",
        "# First n bands\n",
        "n_band_pca_together_X_train, n_band_pca_together_X_test = dimension_reduct_with_PCA(selected_X_train, selected_X_test, y_train)\n",
        "\n",
        "# All bands\n",
        "all_band_pca_together_X_train, all_band_pca_together_X_test = dimension_reduct_with_PCA(origin_X_train, origin_X_test, y_train)"
      ],
      "execution_count": null,
      "outputs": [
        {
          "output_type": "stream",
          "name": "stdout",
          "text": [
            "================================== PRINCIPAL COMPONENT ANALYSIS  ===================================\n",
            "Origin shape    (89, 459928)\n",
            "Resize shape    (89, 39)\n",
            "================================== PRINCIPAL COMPONENT ANALYSIS  ===================================\n",
            "Origin shape    (89, 2759568)\n",
            "Resize shape    (89, 27)\n"
          ]
        }
      ]
    },
    {
      "cell_type": "markdown",
      "metadata": {
        "id": "NZDy3vjwo0HS"
      },
      "source": [
        "#### First two bands"
      ]
    },
    {
      "cell_type": "code",
      "metadata": {
        "colab": {
          "base_uri": "https://localhost:8080/"
        },
        "id": "fwd7t9ZsozIk",
        "outputId": "2b3fca6c-c623-42e4-dec2-8f2872aa77a8"
      },
      "source": [
        "# Linear Regression\n",
        "MAE, MAPE = classified_with_LR(n_band_pca_together_X_train, n_band_pca_together_X_test, y_train, y_test)\n",
        "print('')\n",
        "\n",
        "# SVR \n",
        "MAE, MAPE = classified_with_SVR(n_band_pca_together_X_train, n_band_pca_together_X_test, y_train, y_test)"
      ],
      "execution_count": null,
      "outputs": [
        {
          "output_type": "stream",
          "name": "stdout",
          "text": [
            "----------------------------------------[Linear Regression]-----------------------------------------\n",
            "Predicted\n",
            "    List = [124, 263, 151, 170, 121, 133, 201, 187, 217, 218, 154, 151, 9, 118, 142, 92, 215, 84, 149, 229, 38, 93, 168]\n",
            "    Mean = 149.0\n",
            "\n",
            "Real\n",
            "    List = [36 38 27 14 44 29 31 39 37 42 31 29 27 27 24 27 22 28 21 30 14 22 19]\n",
            "    Mean = 28.6087\n",
            "\n",
            "- MAE:  121.9565 (cases different in average)\n",
            "- MAPE:    4.504 (times different in average)\n",
            "-----------------------------------------------[SVR]------------------------------------------------\n",
            "Predicted\n",
            "    List = [186, 189, 188, 188, 189, 189, 189, 188, 186, 189, 188, 188, 189, 189, 190, 188, 188, 187, 187, 187, 188, 188, 186]\n",
            "    Mean = 188.0\n",
            "\n",
            "Real\n",
            "    List = [36 38 27 14 44 29 31 39 37 42 31 29 27 27 24 27 22 28 21 30 14 22 19]\n",
            "    Mean = 28.6087\n",
            "\n",
            "- MAE:  159.3913 (cases different in average)\n",
            "- MAPE:   6.1888 (times different in average)\n"
          ]
        }
      ]
    },
    {
      "cell_type": "markdown",
      "metadata": {
        "id": "7xxY5pgRo219"
      },
      "source": [
        "#### All bands"
      ]
    },
    {
      "cell_type": "code",
      "metadata": {
        "colab": {
          "base_uri": "https://localhost:8080/"
        },
        "id": "f_dLs34LyBi_",
        "outputId": "7ad582d8-f543-465c-d303-2c248271d016"
      },
      "source": [
        "# Linear Regression\n",
        "MAE, MAPE = classified_with_LR(all_band_pca_together_X_train, all_band_pca_together_X_test, y_train, y_test)\n",
        "print('')\n",
        "\n",
        "# SVR \n",
        "MAE, MAPE = classified_with_SVR(all_band_pca_together_X_train, all_band_pca_together_X_test, y_train, y_test)"
      ],
      "execution_count": null,
      "outputs": [
        {
          "output_type": "stream",
          "name": "stdout",
          "text": [
            "----------------------------------------[Linear Regression]-----------------------------------------\n",
            "Predicted\n",
            "    List = [204, 205, 214, 237, 122, 209, 275, 252, 225, 264, 208, 198, -24, 207, -24, -4, 213, 27, 162, -50, 110, 146, 205]\n",
            "    Mean = 155.6957\n",
            "\n",
            "Real\n",
            "    List = [36 38 27 14 44 29 31 39 37 42 31 29 27 27 24 27 22 28 21 30 14 22 19]\n",
            "    Mean = 28.6087\n",
            "\n",
            "- MAE:  145.4348 (cases different in average)\n",
            "- MAPE:   5.5312 (times different in average)\n",
            "-----------------------------------------------[SVR]------------------------------------------------\n",
            "Predicted\n",
            "    List = [186, 189, 187, 187, 187, 188, 187, 187, 186, 187, 188, 187, 187, 189, 188, 186, 187, 186, 187, 187, 187, 187, 186]\n",
            "    Mean = 187.087\n",
            "\n",
            "Real\n",
            "    List = [36 38 27 14 44 29 31 39 37 42 31 29 27 27 24 27 22 28 21 30 14 22 19]\n",
            "    Mean = 28.6087\n",
            "\n",
            "- MAE:  158.4783 (cases different in average)\n",
            "- MAPE:   6.1544 (times different in average)\n"
          ]
        }
      ]
    },
    {
      "cell_type": "markdown",
      "metadata": {
        "id": "7wc9-PMQpChm"
      },
      "source": [
        "### Resized images with LLE"
      ]
    },
    {
      "cell_type": "markdown",
      "metadata": {
        "id": "-Bk2cwhM_I1K"
      },
      "source": [
        "#### Perform LLE"
      ]
    },
    {
      "cell_type": "code",
      "metadata": {
        "id": "JXw8X2TXWiqY",
        "colab": {
          "base_uri": "https://localhost:8080/"
        },
        "outputId": "00efdc38-24ed-43c2-ad27-39d46d2f0b52"
      },
      "source": [
        "first_n_band = 2\n",
        "selected_X_train = origin_X_train[:, :, :, 0 : first_n_band]\n",
        "selected_X_test = origin_X_test[:, :, :, 0 : first_n_band]\n",
        "\n",
        "# First n bands\n",
        "n_band_lle_X_train, n_band_lle_X_test = dimension_reduct_with_LLE(selected_X_train, selected_X_test, y_train)\n",
        "\n",
        "# All bands\n",
        "all_band_lle_X_train, all_band_lle_X_test = dimension_reduct_with_LLE(origin_X_train, origin_X_test, y_train)"
      ],
      "execution_count": null,
      "outputs": [
        {
          "output_type": "stream",
          "name": "stdout",
          "text": [
            "===================================== LOCALLY LINEAR EMBEDDING =====================================\n",
            "===================================== LOCALLY LINEAR EMBEDDING =====================================\n"
          ]
        }
      ]
    },
    {
      "cell_type": "markdown",
      "metadata": {
        "id": "Jxr87o8KwHqQ"
      },
      "source": [
        "#### First 2 bands"
      ]
    },
    {
      "cell_type": "code",
      "metadata": {
        "colab": {
          "base_uri": "https://localhost:8080/"
        },
        "id": "OYPh6ifiNtCR",
        "outputId": "907c4993-0372-4311-f2ef-db4a45da6902"
      },
      "source": [
        "# Linear Regression\n",
        "MAE, MAPE = classified_with_LR(n_band_lle_X_train, n_band_lle_X_test, y_train, y_test)\n",
        "\n",
        "# SVR \n",
        "MAE, MAPE = classified_with_SVR(n_band_lle_X_train, n_band_lle_X_test, y_train, y_test)"
      ],
      "execution_count": null,
      "outputs": [
        {
          "output_type": "stream",
          "name": "stdout",
          "text": [
            "----------------------------------------[Linear Regression]-----------------------------------------\n",
            "Predicted\n",
            "    List = [224, 220, 224, 224, 221, 223, 224, 224, 224, 224, 224, 224, 223, 220, 221, 224, 224, 224, 219, 219, 224, 224, 224]\n",
            "    Mean = 222.8696\n",
            "\n",
            "Real\n",
            "    List = [36 38 27 14 44 29 31 39 37 42 31 29 27 27 24 27 22 28 21 30 14 22 19]\n",
            "    Mean = 28.6087\n",
            "\n",
            "- MAE:  194.2609 (cases different in average)\n",
            "- MAPE:    7.527 (times different in average)\n",
            "-----------------------------------------------[SVR]------------------------------------------------\n",
            "Predicted\n",
            "    List = [188, 188, 187, 188, 188, 189, 187, 187, 188, 187, 187, 187, 189, 188, 188, 188, 188, 188, 188, 188, 187, 188, 188]\n",
            "    Mean = 187.7826\n",
            "\n",
            "Real\n",
            "    List = [36 38 27 14 44 29 31 39 37 42 31 29 27 27 24 27 22 28 21 30 14 22 19]\n",
            "    Mean = 28.6087\n",
            "\n",
            "- MAE:  159.1739 (cases different in average)\n",
            "- MAPE:   6.1822 (times different in average)\n"
          ]
        }
      ]
    },
    {
      "cell_type": "markdown",
      "metadata": {
        "id": "sELdV_SRwKSl"
      },
      "source": [
        "#### All bands"
      ]
    },
    {
      "cell_type": "code",
      "metadata": {
        "colab": {
          "base_uri": "https://localhost:8080/"
        },
        "id": "eF2DYwI3wLak",
        "outputId": "d8968233-7a68-4437-e7d0-facbe01ab39c"
      },
      "source": [
        "# Linear Regression\n",
        "MAE, MAPE = classified_with_LR(all_band_lle_X_train, all_band_lle_X_test, y_train, y_test)\n",
        "\n",
        "# SVR \n",
        "MAE, MAPE = classified_with_SVR(all_band_lle_X_train, all_band_lle_X_test, y_train, y_test)"
      ],
      "execution_count": null,
      "outputs": [
        {
          "output_type": "stream",
          "name": "stdout",
          "text": [
            "----------------------------------------[Linear Regression]-----------------------------------------\n",
            "Predicted\n",
            "    List = [210, 239, 210, 215, 231, 228, 210, 210, 210, 210, 215, 210, 227, 239, 241, 219, 210, 206, 242, 242, 218, 215, 210]\n",
            "    Mean = 220.3043\n",
            "\n",
            "Real\n",
            "    List = [36 38 27 14 44 29 31 39 37 42 31 29 27 27 24 27 22 28 21 30 14 22 19]\n",
            "    Mean = 28.6087\n",
            "\n",
            "- MAE:  191.6957 (cases different in average)\n",
            "- MAPE:    7.421 (times different in average)\n",
            "-----------------------------------------------[SVR]------------------------------------------------\n",
            "Predicted\n",
            "    List = [184, 193, 184, 185, 192, 190, 184, 184, 184, 184, 185, 184, 190, 193, 193, 186, 184, 183, 192, 192, 186, 184, 184]\n",
            "    Mean = 186.9565\n",
            "\n",
            "Real\n",
            "    List = [36 38 27 14 44 29 31 39 37 42 31 29 27 27 24 27 22 28 21 30 14 22 19]\n",
            "    Mean = 28.6087\n",
            "\n",
            "- MAE:  158.3478 (cases different in average)\n",
            "- MAPE:   6.1455 (times different in average)\n"
          ]
        }
      ]
    },
    {
      "cell_type": "markdown",
      "metadata": {
        "id": "G9wEr6hlxUC8"
      },
      "source": [
        "# RGB Images Run Here"
      ]
    },
    {
      "cell_type": "markdown",
      "metadata": {
        "id": "P_QU-17t4Opz"
      },
      "source": [
        "## Read images"
      ]
    },
    {
      "cell_type": "code",
      "metadata": {
        "colab": {
          "base_uri": "https://localhost:8080/"
        },
        "id": "ch5FzZUnxWE3",
        "outputId": "4fc0cf5a-a1db-4713-be18-0dc578d5bf70"
      },
      "source": [
        "# Define main folder\n",
        "dataset_folder = '/content/drive/MyDrive/Dengue forecasting with Satellite Images/dataset'\n",
        "\n",
        "# Define image folder\n",
        "image_name = 'image/image_rgb'\n",
        "img_folder = os.path.join(dataset_folder, image_name)\n",
        "\n",
        "# Define csv folder\n",
        "csv_name = 'csv/merge_cases_timeseries.csv'\n",
        "csv_folder = os.path.join(dataset_folder, csv_name)\n",
        "info_dict = loadData(csv_folder, img_folder, resize_ratio=(0.5, 0.5, 1))\n",
        "\n",
        "print('INFO_DICT'.center(50, '-'))\n",
        "print('keys:', info_dict.keys())\n",
        "print('')\n",
        "\n",
        "print('DENGUE CASES'.center(50, '-'))\n",
        "print('Max weekly dengue cases:', max(info_dict['cases_medellin']))\n",
        "print('Min weekly dengue cases:', min(info_dict['cases_medellin']))\n",
        "print('')\n",
        "\n",
        "print('WEEKS'.center(50, '-'))\n",
        "print('Max week:', max(info_dict['LastDayWeek']))\n",
        "print('Min week:', min(info_dict['LastDayWeek']))"
      ],
      "execution_count": null,
      "outputs": [
        {
          "output_type": "stream",
          "name": "stdout",
          "text": [
            "image_2016-01-03.tiff (origin shape: (1205, 765, 3) -> rescale: (602, 382, 3))\n",
            "image_2016-01-10.tiff (origin shape: (1205, 765, 3) -> rescale: (602, 382, 3))\n",
            "image_2016-01-17.tiff (origin shape: (1205, 765, 3) -> rescale: (602, 382, 3))\n",
            "image_2016-01-24.tiff (origin shape: (1205, 765, 3) -> rescale: (602, 382, 3))\n",
            "image_2016-02-07.tiff (origin shape: (1205, 765, 3) -> rescale: (602, 382, 3))\n",
            "image_2016-02-14.tiff (origin shape: (1205, 765, 3) -> rescale: (602, 382, 3))\n",
            "image_2016-03-06.tiff (origin shape: (1205, 765, 3) -> rescale: (602, 382, 3))\n",
            "image_2016-03-20.tiff (origin shape: (1205, 765, 3) -> rescale: (602, 382, 3))\n",
            "image_2016-04-03.tiff (origin shape: (1205, 765, 3) -> rescale: (602, 382, 3))\n",
            "image_2016-04-17.tiff (origin shape: (1205, 765, 3) -> rescale: (602, 382, 3))\n",
            "image_2016-04-24.tiff (origin shape: (1205, 765, 3) -> rescale: (602, 382, 3))\n",
            "image_2016-05-01.tiff (origin shape: (1205, 765, 3) -> rescale: (602, 382, 3))\n",
            "image_2016-05-08.tiff (origin shape: (1205, 765, 3) -> rescale: (602, 382, 3))\n",
            "image_2016-05-15.tiff (origin shape: (1205, 765, 3) -> rescale: (602, 382, 3))\n",
            "image_2016-05-22.tiff (origin shape: (1205, 765, 3) -> rescale: (602, 382, 3))\n",
            "image_2016-06-05.tiff (origin shape: (1205, 765, 3) -> rescale: (602, 382, 3))\n",
            "image_2016-06-12.tiff (origin shape: (1205, 765, 3) -> rescale: (602, 382, 3))\n",
            "image_2016-06-19.tiff (origin shape: (1205, 765, 3) -> rescale: (602, 382, 3))\n",
            "image_2016-06-26.tiff (origin shape: (1205, 765, 3) -> rescale: (602, 382, 3))\n",
            "image_2016-07-03.tiff (origin shape: (1205, 765, 3) -> rescale: (602, 382, 3))\n",
            "image_2016-07-10.tiff (origin shape: (1205, 765, 3) -> rescale: (602, 382, 3))\n",
            "image_2016-07-17.tiff (origin shape: (1205, 765, 3) -> rescale: (602, 382, 3))\n",
            "image_2016-07-24.tiff (origin shape: (1205, 765, 3) -> rescale: (602, 382, 3))\n",
            "image_2016-07-31.tiff (origin shape: (1205, 765, 3) -> rescale: (602, 382, 3))\n",
            "image_2016-08-07.tiff (origin shape: (1205, 765, 3) -> rescale: (602, 382, 3))\n",
            "image_2016-08-14.tiff (origin shape: (1205, 765, 3) -> rescale: (602, 382, 3))\n",
            "image_2016-08-21.tiff (origin shape: (1205, 765, 3) -> rescale: (602, 382, 3))\n",
            "image_2016-08-28.tiff (origin shape: (1205, 765, 3) -> rescale: (602, 382, 3))\n",
            "image_2016-09-04.tiff (origin shape: (1205, 765, 3) -> rescale: (602, 382, 3))\n",
            "image_2016-09-11.tiff (origin shape: (1205, 765, 3) -> rescale: (602, 382, 3))\n",
            "image_2016-09-18.tiff (origin shape: (1205, 765, 3) -> rescale: (602, 382, 3))\n",
            "image_2016-09-25.tiff (origin shape: (1205, 765, 3) -> rescale: (602, 382, 3))\n",
            "image_2016-10-02.tiff (origin shape: (1205, 765, 3) -> rescale: (602, 382, 3))\n",
            "image_2016-10-09.tiff (origin shape: (1205, 765, 3) -> rescale: (602, 382, 3))\n",
            "image_2016-10-16.tiff (origin shape: (1205, 765, 3) -> rescale: (602, 382, 3))\n",
            "image_2016-10-23.tiff (origin shape: (1205, 765, 3) -> rescale: (602, 382, 3))\n",
            "image_2016-11-06.tiff (origin shape: (1205, 765, 3) -> rescale: (602, 382, 3))\n",
            "image_2016-11-13.tiff (origin shape: (1205, 765, 3) -> rescale: (602, 382, 3))\n",
            "image_2016-11-20.tiff (origin shape: (1205, 765, 3) -> rescale: (602, 382, 3))\n",
            "image_2016-11-27.tiff (origin shape: (1205, 765, 3) -> rescale: (602, 382, 3))\n",
            "image_2016-12-04.tiff (origin shape: (1205, 765, 3) -> rescale: (602, 382, 3))\n",
            "image_2016-12-11.tiff (origin shape: (1205, 765, 3) -> rescale: (602, 382, 3))\n",
            "image_2016-12-18.tiff (origin shape: (1205, 765, 3) -> rescale: (602, 382, 3))\n",
            "image_2017-01-01.tiff (origin shape: (1205, 765, 3) -> rescale: (602, 382, 3))\n",
            "image_2017-01-01.tiff (origin shape: (1205, 765, 3) -> rescale: (602, 382, 3))\n",
            "image_2017-01-22.tiff (origin shape: (1205, 765, 3) -> rescale: (602, 382, 3))\n",
            "image_2017-01-29.tiff (origin shape: (1205, 765, 3) -> rescale: (602, 382, 3))\n",
            "image_2017-02-05.tiff (origin shape: (1205, 765, 3) -> rescale: (602, 382, 3))\n",
            "image_2017-02-12.tiff (origin shape: (1205, 765, 3) -> rescale: (602, 382, 3))\n",
            "image_2017-02-19.tiff (origin shape: (1205, 765, 3) -> rescale: (602, 382, 3))\n",
            "image_2017-02-26.tiff (origin shape: (1205, 765, 3) -> rescale: (602, 382, 3))\n",
            "image_2017-03-05.tiff (origin shape: (1205, 765, 3) -> rescale: (602, 382, 3))\n",
            "image_2017-03-12.tiff (origin shape: (1205, 765, 3) -> rescale: (602, 382, 3))\n",
            "image_2017-03-19.tiff (origin shape: (1205, 765, 3) -> rescale: (602, 382, 3))\n",
            "image_2017-03-26.tiff (origin shape: (1205, 765, 3) -> rescale: (602, 382, 3))\n",
            "image_2017-04-02.tiff (origin shape: (1205, 765, 3) -> rescale: (602, 382, 3))\n",
            "image_2017-04-09.tiff (origin shape: (1205, 765, 3) -> rescale: (602, 382, 3))\n",
            "image_2017-04-16.tiff (origin shape: (1205, 765, 3) -> rescale: (602, 382, 3))\n",
            "image_2017-04-23.tiff (origin shape: (1205, 765, 3) -> rescale: (602, 382, 3))\n",
            "image_2017-04-30.tiff (origin shape: (1205, 765, 3) -> rescale: (602, 382, 3))\n",
            "image_2017-05-07.tiff (origin shape: (1205, 765, 3) -> rescale: (602, 382, 3))\n",
            "image_2017-05-14.tiff (origin shape: (1205, 765, 3) -> rescale: (602, 382, 3))\n",
            "image_2017-05-21.tiff (origin shape: (1205, 765, 3) -> rescale: (602, 382, 3))\n",
            "image_2017-05-28.tiff (origin shape: (1205, 765, 3) -> rescale: (602, 382, 3))\n",
            "image_2017-06-04.tiff (origin shape: (1205, 765, 3) -> rescale: (602, 382, 3))\n",
            "image_2017-06-11.tiff (origin shape: (1205, 765, 3) -> rescale: (602, 382, 3))\n",
            "image_2017-06-18.tiff (origin shape: (1205, 765, 3) -> rescale: (602, 382, 3))\n",
            "image_2017-06-25.tiff (origin shape: (1205, 765, 3) -> rescale: (602, 382, 3))\n",
            "image_2017-07-02.tiff (origin shape: (1205, 765, 3) -> rescale: (602, 382, 3))\n",
            "image_2017-07-09.tiff (origin shape: (1205, 765, 3) -> rescale: (602, 382, 3))\n",
            "image_2017-07-16.tiff (origin shape: (1205, 765, 3) -> rescale: (602, 382, 3))\n",
            "image_2017-07-23.tiff (origin shape: (1205, 765, 3) -> rescale: (602, 382, 3))\n",
            "image_2017-07-30.tiff (origin shape: (1205, 765, 3) -> rescale: (602, 382, 3))\n",
            "image_2017-08-06.tiff (origin shape: (1205, 765, 3) -> rescale: (602, 382, 3))\n",
            "image_2017-08-13.tiff (origin shape: (1205, 765, 3) -> rescale: (602, 382, 3))\n",
            "image_2017-08-20.tiff (origin shape: (1205, 765, 3) -> rescale: (602, 382, 3))\n",
            "image_2017-08-27.tiff (origin shape: (1205, 765, 3) -> rescale: (602, 382, 3))\n",
            "image_2017-09-03.tiff (origin shape: (1205, 765, 3) -> rescale: (602, 382, 3))\n",
            "image_2017-09-10.tiff (origin shape: (1205, 765, 3) -> rescale: (602, 382, 3))\n",
            "image_2017-09-17.tiff (origin shape: (1205, 765, 3) -> rescale: (602, 382, 3))\n",
            "image_2017-09-24.tiff (origin shape: (1205, 765, 3) -> rescale: (602, 382, 3))\n",
            "image_2017-10-01.tiff (origin shape: (1205, 765, 3) -> rescale: (602, 382, 3))\n",
            "image_2017-10-08.tiff (origin shape: (1205, 765, 3) -> rescale: (602, 382, 3))\n",
            "image_2017-10-15.tiff (origin shape: (1205, 765, 3) -> rescale: (602, 382, 3))\n",
            "image_2017-10-22.tiff (origin shape: (1205, 765, 3) -> rescale: (602, 382, 3))\n",
            "image_2017-10-29.tiff (origin shape: (1205, 765, 3) -> rescale: (602, 382, 3))\n",
            "image_2017-11-05.tiff (origin shape: (1205, 765, 3) -> rescale: (602, 382, 3))\n",
            "image_2017-11-12.tiff (origin shape: (1205, 765, 3) -> rescale: (602, 382, 3))\n",
            "image_2017-11-19.tiff (origin shape: (1205, 765, 3) -> rescale: (602, 382, 3))\n",
            "image_2017-11-26.tiff (origin shape: (1205, 765, 3) -> rescale: (602, 382, 3))\n",
            "image_2017-12-03.tiff (origin shape: (1205, 765, 3) -> rescale: (602, 382, 3))\n",
            "image_2017-12-10.tiff (origin shape: (1205, 765, 3) -> rescale: (602, 382, 3))\n",
            "image_2017-12-17.tiff (origin shape: (1205, 765, 3) -> rescale: (602, 382, 3))\n",
            "image_2018-01-06.tiff (origin shape: (1205, 765, 3) -> rescale: (602, 382, 3))\n",
            "image_2018-01-13.tiff (origin shape: (1205, 765, 3) -> rescale: (602, 382, 3))\n",
            "image_2018-01-20.tiff (origin shape: (1205, 765, 3) -> rescale: (602, 382, 3))\n",
            "image_2018-01-27.tiff (origin shape: (1205, 765, 3) -> rescale: (602, 382, 3))\n",
            "image_2018-02-03.tiff (origin shape: (1205, 765, 3) -> rescale: (602, 382, 3))\n",
            "image_2018-02-10.tiff (origin shape: (1205, 765, 3) -> rescale: (602, 382, 3))\n",
            "image_2018-02-17.tiff (origin shape: (1205, 765, 3) -> rescale: (602, 382, 3))\n",
            "image_2018-02-24.tiff (origin shape: (1205, 765, 3) -> rescale: (602, 382, 3))\n",
            "image_2018-03-03.tiff (origin shape: (1205, 765, 3) -> rescale: (602, 382, 3))\n",
            "image_2018-03-10.tiff (origin shape: (1205, 765, 3) -> rescale: (602, 382, 3))\n",
            "image_2018-03-17.tiff (origin shape: (1205, 765, 3) -> rescale: (602, 382, 3))\n",
            "image_2018-03-24.tiff (origin shape: (1205, 765, 3) -> rescale: (602, 382, 3))\n",
            "image_2018-03-31.tiff (origin shape: (1205, 765, 3) -> rescale: (602, 382, 3))\n",
            "image_2018-04-07.tiff (origin shape: (1205, 765, 3) -> rescale: (602, 382, 3))\n",
            "image_2018-04-14.tiff (origin shape: (1205, 765, 3) -> rescale: (602, 382, 3))\n",
            "image_2018-04-21.tiff (origin shape: (1205, 765, 3) -> rescale: (602, 382, 3))\n",
            "image_2018-04-28.tiff (origin shape: (1205, 765, 3) -> rescale: (602, 382, 3))\n",
            "image_2018-05-05.tiff (origin shape: (1205, 765, 3) -> rescale: (602, 382, 3))\n",
            "image_2018-05-12.tiff (origin shape: (1205, 765, 3) -> rescale: (602, 382, 3))\n",
            "image_2018-05-19.tiff (origin shape: (1205, 765, 3) -> rescale: (602, 382, 3))\n",
            "image_2018-05-26.tiff (origin shape: (1205, 765, 3) -> rescale: (602, 382, 3))\n",
            "image_2018-06-02.tiff (origin shape: (1205, 765, 3) -> rescale: (602, 382, 3))\n",
            "image_2018-06-09.tiff (origin shape: (1205, 765, 3) -> rescale: (602, 382, 3))\n",
            "image_2018-06-16.tiff (origin shape: (1205, 765, 3) -> rescale: (602, 382, 3))\n",
            "image_2018-06-23.tiff (origin shape: (1205, 765, 3) -> rescale: (602, 382, 3))\n",
            "image_2018-06-30.tiff (origin shape: (1205, 765, 3) -> rescale: (602, 382, 3))\n",
            "image_2018-07-07.tiff (origin shape: (1205, 765, 3) -> rescale: (602, 382, 3))\n",
            "image_2018-07-14.tiff (origin shape: (1205, 765, 3) -> rescale: (602, 382, 3))\n",
            "image_2018-07-21.tiff (origin shape: (1205, 765, 3) -> rescale: (602, 382, 3))\n",
            "image_2018-07-28.tiff (origin shape: (1205, 765, 3) -> rescale: (602, 382, 3))\n",
            "image_2018-08-04.tiff (origin shape: (1205, 765, 3) -> rescale: (602, 382, 3))\n",
            "image_2018-08-11.tiff (origin shape: (1205, 765, 3) -> rescale: (602, 382, 3))\n",
            "image_2018-08-18.tiff (origin shape: (1205, 765, 3) -> rescale: (602, 382, 3))\n",
            "image_2018-08-25.tiff (origin shape: (1205, 765, 3) -> rescale: (602, 382, 3))\n",
            "image_2018-09-01.tiff (origin shape: (1205, 765, 3) -> rescale: (602, 382, 3))\n",
            "image_2018-09-08.tiff (origin shape: (1205, 765, 3) -> rescale: (602, 382, 3))\n",
            "image_2018-09-15.tiff (origin shape: (1205, 765, 3) -> rescale: (602, 382, 3))\n",
            "image_2018-09-22.tiff (origin shape: (1205, 765, 3) -> rescale: (602, 382, 3))\n",
            "image_2018-09-29.tiff (origin shape: (1205, 765, 3) -> rescale: (602, 382, 3))\n",
            "image_2018-10-06.tiff (origin shape: (1205, 765, 3) -> rescale: (602, 382, 3))\n",
            "image_2018-10-13.tiff (origin shape: (1205, 765, 3) -> rescale: (602, 382, 3))\n",
            "image_2018-10-20.tiff (origin shape: (1205, 765, 3) -> rescale: (602, 382, 3))\n",
            "image_2018-10-27.tiff (origin shape: (1205, 765, 3) -> rescale: (602, 382, 3))\n",
            "image_2018-11-03.tiff (origin shape: (1205, 765, 3) -> rescale: (602, 382, 3))\n",
            "image_2018-11-10.tiff (origin shape: (1205, 765, 3) -> rescale: (602, 382, 3))\n",
            "image_2018-11-17.tiff (origin shape: (1205, 765, 3) -> rescale: (602, 382, 3))\n",
            "image_2018-11-24.tiff (origin shape: (1205, 765, 3) -> rescale: (602, 382, 3))\n",
            "image_2018-12-01.tiff (origin shape: (1205, 765, 3) -> rescale: (602, 382, 3))\n",
            "image_2018-12-08.tiff (origin shape: (1205, 765, 3) -> rescale: (602, 382, 3))\n",
            "image_2018-12-15.tiff (origin shape: (1205, 765, 3) -> rescale: (602, 382, 3))\n",
            "image_2018-12-22.tiff (origin shape: (1205, 765, 3) -> rescale: (602, 382, 3))\n",
            "image_2018-12-29.tiff (origin shape: (1205, 765, 3) -> rescale: (602, 382, 3))\n",
            "145 145 145\n",
            "--------------------INFO_DICT---------------------\n",
            "keys: dict_keys(['LastDayWeek', 'cases_medellin', 'Image', 'epi_week'])\n",
            "\n",
            "-------------------DENGUE CASES-------------------\n",
            "Max weekly dengue cases: 592\n",
            "Min weekly dengue cases: 12\n",
            "\n",
            "----------------------WEEKS-----------------------\n",
            "Max week: 2018-12-29\n",
            "Min week: 2016-01-09\n"
          ]
        }
      ]
    },
    {
      "cell_type": "code",
      "metadata": {
        "id": "5Ngmo1j42xNP",
        "colab": {
          "base_uri": "https://localhost:8080/"
        },
        "outputId": "d0f15000-e562-4764-b56e-3b6ac02f1a20"
      },
      "source": [
        "origin_X_train, y_train, origin_X_test, y_test = splitTrainTestSet(0.8)"
      ],
      "execution_count": null,
      "outputs": [
        {
          "output_type": "stream",
          "name": "stdout",
          "text": [
            "------------------------------------------------------------\n",
            "Total number of weeks:         145 weeks\n",
            "Training input:                (116, 602, 382, 3)\n",
            "Training output:               (116,)\n",
            "Testing input:                 (29, 602, 382, 3)\n",
            "Testing output:                (29,)\n"
          ]
        }
      ]
    },
    {
      "cell_type": "markdown",
      "metadata": {
        "id": "r3H2ftvS3m1e"
      },
      "source": [
        "## Resized images without dimensionality reduction"
      ]
    },
    {
      "cell_type": "code",
      "metadata": {
        "id": "EGiMfyXp2-cS",
        "colab": {
          "base_uri": "https://localhost:8080/"
        },
        "outputId": "5cb660b3-3f64-4d76-8c54-beaaac66c12e"
      },
      "source": [
        "# LR\n",
        "MAE, MAPE = classified_with_LR(origin_X_train, origin_X_test, y_train, y_test)\n",
        "print('')\n",
        "\n",
        "# SVR \n",
        "MAE, MAPE = classified_with_SVR(origin_X_train, origin_X_test, y_train, y_test)"
      ],
      "execution_count": null,
      "outputs": [
        {
          "output_type": "stream",
          "name": "stdout",
          "text": [
            "----------------------------------------[Linear Regression]-----------------------------------------\n",
            "Predicted\n",
            "    List = [-263734540560, 5990493315302, 5087699576081, -316787402706, -10298217423965, -8051446612973, -2518859611867, 650306461787, 3167768225805, -3863527111602, -1989119808204, -5641552997999, 1029883611107, -1623059347266, 456420129330, 597979034726, -2472634171748, -1415306658159, 7807246345234, 4237288852588, -2358614228165, -4142858818420, -5168702371026, 1795326904732, -5858308221088, 3820330306055, 1927554290535, -5182760891799, 1772604048908]\n",
            "    Mean = -787054797081.2759\n",
            "\n",
            "Real\n",
            "    List = [22 23 23 27 35 22 19 20 22 18 25 27 25 12 22 22 27 23 24 24 17 20 15 41\n",
            " 28 12 27 17 17]\n",
            "    Mean = 22.6207\n",
            "\n",
            "- MAE:  3431254873096.1724 (cases different in average)\n",
            "- MAPE: 158604687757.0361 (times different in average)\n",
            "\n",
            "-----------------------------------------------[SVR]------------------------------------------------\n",
            "Predicted\n",
            "    List = [43, 43, 42, 42, 43, 44, 44, 43, 44, 43, 43, 45, 41, 41, 41, 42, 44, 43, 41, 43, 43, 42, 42, 42, 43, 44, 44, 44, 42]\n",
            "    Mean = 42.7931\n",
            "\n",
            "Real\n",
            "    List = [22 23 23 27 35 22 19 20 22 18 25 27 25 12 22 22 27 23 24 24 17 20 15 41\n",
            " 28 12 27 17 17]\n",
            "    Mean = 22.6207\n",
            "\n",
            "- MAE:   20.1724 (cases different in average)\n",
            "- MAPE:   1.0293 (times different in average)\n"
          ]
        }
      ]
    },
    {
      "cell_type": "markdown",
      "metadata": {
        "id": "DPeC32Ai38Ck"
      },
      "source": [
        "## Resized images with PCA per band"
      ]
    },
    {
      "cell_type": "code",
      "metadata": {
        "id": "jJ8KkyPx3H2l",
        "colab": {
          "base_uri": "https://localhost:8080/"
        },
        "outputId": "9ea2416a-16c9-440e-eb1a-ae90d77459e7"
      },
      "source": [
        "rgb_pca_separate_X_train, rgb_pca_separate_X_test = pca_per_band(origin_X_train, origin_X_test, y_train)"
      ],
      "execution_count": null,
      "outputs": [
        {
          "output_type": "stream",
          "name": "stdout",
          "text": [
            "================================== PRINCIPAL COMPONENT ANALYSIS  ===================================\n",
            "Origin shape    (116, 689892)\n",
            "Resize shape    (116, 49)\n",
            "================================== PRINCIPAL COMPONENT ANALYSIS  ===================================\n",
            "Origin shape    (116, 689892)\n",
            "Resize shape    (116, 49)\n",
            "================================== PRINCIPAL COMPONENT ANALYSIS  ===================================\n",
            "Origin shape    (116, 689892)\n",
            "Resize shape    (116, 49)\n",
            "(116, 147) (29, 147)\n"
          ]
        }
      ]
    },
    {
      "cell_type": "code",
      "metadata": {
        "id": "-PadvSP_43SC",
        "colab": {
          "base_uri": "https://localhost:8080/"
        },
        "outputId": "4bf2b943-caf7-49a0-d4d1-8a8947940ddd"
      },
      "source": [
        "# LR\n",
        "MAE, MAPE = classified_with_LR(rgb_pca_separate_X_train, rgb_pca_separate_X_test, y_train, y_test)\n",
        "print('')\n",
        "\n",
        "# SVR \n",
        "MAE, MAPE = classified_with_SVR(rgb_pca_separate_X_train, rgb_pca_separate_X_test, y_train, y_test)"
      ],
      "execution_count": null,
      "outputs": [
        {
          "output_type": "stream",
          "name": "stdout",
          "text": [
            "----------------------------------------[Linear Regression]-----------------------------------------\n",
            "Predicted\n",
            "    List = [190, 303, -39, 122, 90, 192, 305, 216, 255, 186, 107, 89, 71, 86, 114, 118, 161, 123, 102, 183, 104, 51, 27, 31, -30, 102, 247, 137, 127]\n",
            "    Mean = 130.0\n",
            "\n",
            "Real\n",
            "    List = [22 23 23 27 35 22 19 20 22 18 25 27 25 12 22 22 27 23 24 24 17 20 15 41\n",
            " 28 12 27 17 17]\n",
            "    Mean = 22.6207\n",
            "\n",
            "- MAE:  116.3448 (cases different in average)\n",
            "- MAPE:   5.5302 (times different in average)\n",
            "\n",
            "-----------------------------------------------[SVR]------------------------------------------------\n",
            "Predicted\n",
            "    List = [43, 44, 41, 42, 44, 44, 44, 43, 45, 44, 43, 45, 41, 41, 41, 42, 45, 43, 41, 43, 43, 41, 42, 42, 43, 44, 44, 44, 42]\n",
            "    Mean = 42.8966\n",
            "\n",
            "Real\n",
            "    List = [22 23 23 27 35 22 19 20 22 18 25 27 25 12 22 22 27 23 24 24 17 20 15 41\n",
            " 28 12 27 17 17]\n",
            "    Mean = 22.6207\n",
            "\n",
            "- MAE:   20.2759 (cases different in average)\n",
            "- MAPE:   1.0333 (times different in average)\n"
          ]
        }
      ]
    },
    {
      "cell_type": "markdown",
      "metadata": {
        "id": "iKaWaoOQ4U79"
      },
      "source": [
        "## Resized images with PCA (all bands together)"
      ]
    },
    {
      "cell_type": "code",
      "metadata": {
        "id": "qrkEScq63eJp",
        "colab": {
          "base_uri": "https://localhost:8080/"
        },
        "outputId": "ae6b1ef3-b604-4cb6-d02b-086b5c7677cd"
      },
      "source": [
        "rgb_pca_together_X_train, rgb_pca_pca_together_X_test = dimension_reduct_with_PCA(origin_X_train, origin_X_test, y_train)"
      ],
      "execution_count": null,
      "outputs": [
        {
          "output_type": "stream",
          "name": "stdout",
          "text": [
            "================================== PRINCIPAL COMPONENT ANALYSIS  ===================================\n",
            "Origin shape    (116, 689892)\n",
            "Resize shape    (116, 49)\n"
          ]
        }
      ]
    },
    {
      "cell_type": "code",
      "metadata": {
        "id": "Ny0drT8B44HI",
        "colab": {
          "base_uri": "https://localhost:8080/"
        },
        "outputId": "8eb52f2f-7d9a-4ccd-89d1-0a4b2537a26a"
      },
      "source": [
        "# LR\n",
        "MAE, MAPE = classified_with_LR(rgb_pca_together_X_train, rgb_pca_pca_together_X_test, y_train, y_test)\n",
        "print('')\n",
        "\n",
        "# SVR \n",
        "MAE, MAPE = classified_with_SVR(rgb_pca_together_X_train, rgb_pca_pca_together_X_test, y_train, y_test)"
      ],
      "execution_count": null,
      "outputs": [
        {
          "output_type": "stream",
          "name": "stdout",
          "text": [
            "----------------------------------------[Linear Regression]-----------------------------------------\n",
            "Predicted\n",
            "    List = [190, 304, -39, 122, 90, 192, 305, 217, 255, 187, 107, 89, 70, 86, 114, 118, 162, 123, 102, 183, 104, 51, 27, 31, -30, 102, 246, 137, 127]\n",
            "    Mean = 130.069\n",
            "\n",
            "Real\n",
            "    List = [22 23 23 27 35 22 19 20 22 18 25 27 25 12 22 22 27 23 24 24 17 20 15 41\n",
            " 28 12 27 17 17]\n",
            "    Mean = 22.6207\n",
            "\n",
            "- MAE:  116.4138 (cases different in average)\n",
            "- MAPE:   5.5339 (times different in average)\n",
            "\n",
            "-----------------------------------------------[SVR]------------------------------------------------\n",
            "Predicted\n",
            "    List = [43, 44, 41, 42, 44, 44, 44, 43, 45, 44, 43, 45, 41, 41, 41, 42, 45, 43, 41, 43, 43, 41, 42, 42, 43, 44, 44, 44, 42]\n",
            "    Mean = 42.8966\n",
            "\n",
            "Real\n",
            "    List = [22 23 23 27 35 22 19 20 22 18 25 27 25 12 22 22 27 23 24 24 17 20 15 41\n",
            " 28 12 27 17 17]\n",
            "    Mean = 22.6207\n",
            "\n",
            "- MAE:   20.2759 (cases different in average)\n",
            "- MAPE:   1.0333 (times different in average)\n"
          ]
        }
      ]
    },
    {
      "cell_type": "markdown",
      "metadata": {
        "id": "n3PI5Fa04aO-"
      },
      "source": [
        "## Resized images with LLE"
      ]
    },
    {
      "cell_type": "code",
      "metadata": {
        "id": "4mP8FI5z3c56",
        "colab": {
          "base_uri": "https://localhost:8080/"
        },
        "outputId": "49ae5e9e-2a5f-4a27-df74-fd2584843c8b"
      },
      "source": [
        "rgb_lle_X_train, rgb_lle_X_test = dimension_reduct_with_LLE(origin_X_train, origin_X_test, y_train)"
      ],
      "execution_count": null,
      "outputs": [
        {
          "output_type": "stream",
          "name": "stdout",
          "text": [
            "===================================== LOCALLY LINEAR EMBEDDING =====================================\n"
          ]
        }
      ]
    },
    {
      "cell_type": "code",
      "metadata": {
        "id": "c5_ZLdAG440O",
        "colab": {
          "base_uri": "https://localhost:8080/"
        },
        "outputId": "dff0f591-fac1-40b1-c5f5-e08cf15985b8"
      },
      "source": [
        "# LR\n",
        "MAE, MAPE = classified_with_LR(rgb_lle_X_train, rgb_lle_X_test, y_train, y_test)\n",
        "print('')\n",
        "\n",
        "# SVR \n",
        "MAE, MAPE = classified_with_SVR(rgb_lle_X_train, rgb_lle_X_test, y_train, y_test)"
      ],
      "execution_count": null,
      "outputs": [
        {
          "output_type": "stream",
          "name": "stdout",
          "text": [
            "----------------------------------------[Linear Regression]-----------------------------------------\n",
            "Predicted\n",
            "    List = [147, 123, 123, 123, 191, 187, 189, 123, 207, 138, 123, 232, 165, 165, 151, 151, 238, 158, 162, 157, 119, 145, 135, 121, 204, 165, 174, 130, 123]\n",
            "    Mean = 157.5517\n",
            "\n",
            "Real\n",
            "    List = [22 23 23 27 35 22 19 20 22 18 25 27 25 12 22 22 27 23 24 24 17 20 15 41\n",
            " 28 12 27 17 17]\n",
            "    Mean = 22.6207\n",
            "\n",
            "- MAE:   134.931 (cases different in average)\n",
            "- MAPE:    6.386 (times different in average)\n",
            "\n",
            "-----------------------------------------------[SVR]------------------------------------------------\n",
            "Predicted\n",
            "    List = [42, 42, 42, 42, 48, 47, 46, 42, 47, 42, 42, 48, 44, 44, 42, 42, 48, 43, 44, 43, 42, 42, 41, 42, 49, 44, 45, 41, 42]\n",
            "    Mean = 43.7241\n",
            "\n",
            "Real\n",
            "    List = [22 23 23 27 35 22 19 20 22 18 25 27 25 12 22 22 27 23 24 24 17 20 15 41\n",
            " 28 12 27 17 17]\n",
            "    Mean = 22.6207\n",
            "\n",
            "- MAE:   21.1034 (cases different in average)\n",
            "- MAPE:    1.065 (times different in average)\n"
          ]
        }
      ]
    },
    {
      "cell_type": "code",
      "metadata": {
        "id": "kXH-KST05Nan"
      },
      "source": [
        ""
      ],
      "execution_count": null,
      "outputs": []
    }
  ]
}